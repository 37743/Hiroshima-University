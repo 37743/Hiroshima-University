{
 "cells": [
  {
   "cell_type": "markdown",
   "metadata": {},
   "source": [
    "第ー回演習の模範解答です．\n",
    "\n",
    "タスクをやってから答えを見てください．\n"
   ]
  },
  {
   "cell_type": "markdown",
   "metadata": {},
   "source": [
    "## **TASK 1-1**: \n",
    "値が [1, 10, 100, 1000]、インデックスが ['A', 'B', 'C', 'D']というシリーズ *my_obj* を作成せよ。\n",
    "\n",
    "(1) 作成したオブジェクト全体を表示せよ\n",
    "\n",
    "(2) 作成したオブジェクトの**値**だけを表示せよ\n",
    "\n",
    "(3) 作成したオブジェクトの**インデックス**だけを表示せよ\n",
    "\n",
    "(4) インデックス 'B' に対応するセルに10000という値を代入せよ\n",
    "\n",
    "(5) インデックス ['B', 'D'] に対応する値を表示せよ \n"
   ]
  },
  {
   "cell_type": "code",
   "execution_count": 8,
   "metadata": {},
   "outputs": [
    {
     "data": {
      "text/plain": [
       "A       1\n",
       "B      10\n",
       "C     100\n",
       "D    1000\n",
       "dtype: int64"
      ]
     },
     "execution_count": 8,
     "metadata": {},
     "output_type": "execute_result"
    }
   ],
   "source": [
    "#1\n",
    "my_obj = Series([1,10,100,1000], index=['A','B','C','D'])\n",
    "my_obj"
   ]
  },
  {
   "cell_type": "code",
   "execution_count": 9,
   "metadata": {},
   "outputs": [
    {
     "data": {
      "text/plain": [
       "array([   1,   10,  100, 1000])"
      ]
     },
     "execution_count": 9,
     "metadata": {},
     "output_type": "execute_result"
    }
   ],
   "source": [
    "#2\n",
    "my_obj.values"
   ]
  },
  {
   "cell_type": "code",
   "execution_count": 10,
   "metadata": {},
   "outputs": [
    {
     "data": {
      "text/plain": [
       "Index(['A', 'B', 'C', 'D'], dtype='object')"
      ]
     },
     "execution_count": 10,
     "metadata": {},
     "output_type": "execute_result"
    }
   ],
   "source": [
    "#3\n",
    "my_obj.index"
   ]
  },
  {
   "cell_type": "code",
   "execution_count": 11,
   "metadata": {},
   "outputs": [],
   "source": [
    "#4\n",
    "my_obj['B']=10000"
   ]
  },
  {
   "cell_type": "code",
   "execution_count": 12,
   "metadata": {},
   "outputs": [
    {
     "data": {
      "text/plain": [
       "B    10000\n",
       "D     1000\n",
       "dtype: int64"
      ]
     },
     "execution_count": 12,
     "metadata": {},
     "output_type": "execute_result"
    }
   ],
   "source": [
    "#5\n",
    "my_obj[['B','D']] #note that my_obj['B','D'] results in an error"
   ]
  },
  {
   "cell_type": "markdown",
   "metadata": {},
   "source": [
    "## **TASK 1-2**: \n",
    "値が [1, 2, 3, 4, 5]、インデックスが [1, 2, 3, 4, 5]というシリーズ *p* を作成せよ。\n",
    "\n",
    "(1) sin(p)を表示せよ\n",
    "\n",
    "(2) sin(p)の0より小さい値だけを表示せよ\n"
   ]
  },
  {
   "cell_type": "code",
   "execution_count": 18,
   "metadata": {},
   "outputs": [
    {
     "data": {
      "text/plain": [
       "1    1\n",
       "2    2\n",
       "3    3\n",
       "4    4\n",
       "5    5\n",
       "dtype: int64"
      ]
     },
     "execution_count": 18,
     "metadata": {},
     "output_type": "execute_result"
    }
   ],
   "source": [
    "p = Series([1,2,3,4,5], index=[1,2,3,4,5])\n",
    "#p = Series(range(1,6), np.arange(1,6)) #range or np.arange can be used with longer consecutive data\n",
    "p"
   ]
  },
  {
   "cell_type": "code",
   "execution_count": 19,
   "metadata": {},
   "outputs": [
    {
     "data": {
      "text/plain": [
       "1    0.841471\n",
       "2    0.909297\n",
       "3    0.141120\n",
       "4   -0.756802\n",
       "5   -0.958924\n",
       "dtype: float64"
      ]
     },
     "execution_count": 19,
     "metadata": {},
     "output_type": "execute_result"
    }
   ],
   "source": [
    "#1\n",
    "np.sin(p)"
   ]
  },
  {
   "cell_type": "code",
   "execution_count": 20,
   "metadata": {},
   "outputs": [
    {
     "data": {
      "text/plain": [
       "4   -0.756802\n",
       "5   -0.958924\n",
       "dtype: float64"
      ]
     },
     "execution_count": 20,
     "metadata": {},
     "output_type": "execute_result"
    }
   ],
   "source": [
    "#2\n",
    "np.sin(p)[np.sin(p)<0]\n",
    "#a = np.sin(p) #better first assign to a variable\n",
    "#a[a<0]"
   ]
  },
  {
   "cell_type": "markdown",
   "metadata": {},
   "source": [
    "## **TASK  1-3**: \n",
    "(1) ディクショナリ c = {'Tokyo': 100000, 'Hiroshima': 50000, 'Yokohama': 60000} を使って、シリーズ *c1* を作成せよ。\n",
    "\n",
    "(2) *c1* のデータとインデックス['Tokyo', 'Hiroshima', 'Fukuoka']を使って、新しいシリーズ *c2* を作成せよ。\n",
    "\n",
    "(3) c3 = c1+c2 を作成せよ。\n",
    "\n",
    "(4) 作成したシリーズ c1、c2 と c3 を表示して、中身を確認せよ。\n",
    "\n",
    "(5) シリーズ c1 には、 'Yokohama'というインデックスが存在するかどうかを調べよ。次には、 同じことをc2に対しても調べよ。\n",
    "\n",
    "(6) c3 には欠損値があるかどうかを調べよ。\n",
    "\n",
    "(7) c3 のインデックスを ['B1', 'A1', 'Z1', 'F1']に書き換えよ。"
   ]
  },
  {
   "cell_type": "code",
   "execution_count": 34,
   "metadata": {},
   "outputs": [
    {
     "data": {
      "text/plain": [
       "Hiroshima     50000\n",
       "Tokyo        100000\n",
       "Yokohama      60000\n",
       "dtype: int64"
      ]
     },
     "execution_count": 34,
     "metadata": {},
     "output_type": "execute_result"
    }
   ],
   "source": [
    "#1\n",
    "c = {'Tokyo': 100000, 'Hiroshima': 50000, 'Yokohama': 60000} \n",
    "c1 = Series(c)\n",
    "c1"
   ]
  },
  {
   "cell_type": "code",
   "execution_count": 35,
   "metadata": {},
   "outputs": [
    {
     "data": {
      "text/plain": [
       "Tokyo        100000.0\n",
       "Hiroshima     50000.0\n",
       "Fukuoka           NaN\n",
       "dtype: float64"
      ]
     },
     "execution_count": 35,
     "metadata": {},
     "output_type": "execute_result"
    }
   ],
   "source": [
    "#2\n",
    "c2 = Series(c, index = ['Tokyo', 'Hiroshima', 'Fukuoka'])\n",
    "c2"
   ]
  },
  {
   "cell_type": "code",
   "execution_count": 36,
   "metadata": {},
   "outputs": [],
   "source": [
    "#3\n",
    "c3 = c1 + c2"
   ]
  },
  {
   "cell_type": "code",
   "execution_count": 37,
   "metadata": {},
   "outputs": [
    {
     "data": {
      "text/plain": [
       "Fukuoka           NaN\n",
       "Hiroshima    100000.0\n",
       "Tokyo        200000.0\n",
       "Yokohama          NaN\n",
       "dtype: float64"
      ]
     },
     "execution_count": 37,
     "metadata": {},
     "output_type": "execute_result"
    }
   ],
   "source": [
    "#4\n",
    "c3"
   ]
  },
  {
   "cell_type": "code",
   "execution_count": 38,
   "metadata": {},
   "outputs": [
    {
     "data": {
      "text/plain": [
       "(True, False)"
      ]
     },
     "execution_count": 38,
     "metadata": {},
     "output_type": "execute_result"
    }
   ],
   "source": [
    "#5\n",
    "'Yokohama' in c1, 'Yokohama' in c2"
   ]
  },
  {
   "cell_type": "code",
   "execution_count": 39,
   "metadata": {},
   "outputs": [
    {
     "data": {
      "text/plain": [
       "Fukuoka       True\n",
       "Hiroshima    False\n",
       "Tokyo        False\n",
       "Yokohama      True\n",
       "dtype: bool"
      ]
     },
     "execution_count": 39,
     "metadata": {},
     "output_type": "execute_result"
    }
   ],
   "source": [
    "#6\n",
    "c3.isnull()\n",
    "#pd.isnull(c3)"
   ]
  },
  {
   "cell_type": "code",
   "execution_count": 40,
   "metadata": {},
   "outputs": [
    {
     "data": {
      "text/plain": [
       "B1         NaN\n",
       "A1    100000.0\n",
       "Z1    200000.0\n",
       "F1         NaN\n",
       "dtype: float64"
      ]
     },
     "execution_count": 40,
     "metadata": {},
     "output_type": "execute_result"
    }
   ],
   "source": [
    "#7\n",
    "c3.index = ['B1','A1','Z1','F1']\n",
    "c3"
   ]
  },
  {
   "cell_type": "markdown",
   "metadata": {},
   "source": [
    "## **TASK  1-4**: \n",
    "(1) 次のコマンドを使って、データフレームを作成せよ。\n",
    "\n",
    "df = pd.DataFrame(randn(5,4), index = list('ABCDE'), columns = list('WXYZ'))\n",
    "\n",
    "(2) 列 'W'を表示せよ。\n",
    "\n",
    "(3) 列'X'と列'Z'の和である、新しい列'New'をdf内に作成せよ。\n",
    "\n",
    "(4) インデックスが'C'という行のデータを取得して、表示せよ。\n",
    "\n",
    "(5) 列 'Y'を削除せよ。\n",
    "\n",
    "(6) dfに新しい列 'XPos'を追加せよ。ただし、'XPos'の値は以下の通り設定せよ：対応する列 'X'の値が正であればTRUEを、負であればFALSEに設定せよ。"
   ]
  },
  {
   "cell_type": "code",
   "execution_count": 61,
   "metadata": {},
   "outputs": [
    {
     "data": {
      "text/html": [
       "<div>\n",
       "<table border=\"1\" class=\"dataframe\">\n",
       "  <thead>\n",
       "    <tr style=\"text-align: right;\">\n",
       "      <th></th>\n",
       "      <th>W</th>\n",
       "      <th>X</th>\n",
       "      <th>Y</th>\n",
       "      <th>Z</th>\n",
       "    </tr>\n",
       "  </thead>\n",
       "  <tbody>\n",
       "    <tr>\n",
       "      <th>A</th>\n",
       "      <td>0.855100</td>\n",
       "      <td>0.657531</td>\n",
       "      <td>0.521815</td>\n",
       "      <td>-1.129965</td>\n",
       "    </tr>\n",
       "    <tr>\n",
       "      <th>B</th>\n",
       "      <td>-0.190287</td>\n",
       "      <td>-0.084168</td>\n",
       "      <td>0.535094</td>\n",
       "      <td>0.683826</td>\n",
       "    </tr>\n",
       "    <tr>\n",
       "      <th>C</th>\n",
       "      <td>-1.185187</td>\n",
       "      <td>0.777027</td>\n",
       "      <td>1.584026</td>\n",
       "      <td>-0.188183</td>\n",
       "    </tr>\n",
       "    <tr>\n",
       "      <th>D</th>\n",
       "      <td>1.645315</td>\n",
       "      <td>0.158212</td>\n",
       "      <td>-0.229024</td>\n",
       "      <td>-1.262726</td>\n",
       "    </tr>\n",
       "    <tr>\n",
       "      <th>E</th>\n",
       "      <td>0.757857</td>\n",
       "      <td>0.313394</td>\n",
       "      <td>0.077329</td>\n",
       "      <td>0.200634</td>\n",
       "    </tr>\n",
       "  </tbody>\n",
       "</table>\n",
       "</div>"
      ],
      "text/plain": [
       "          W         X         Y         Z\n",
       "A  0.855100  0.657531  0.521815 -1.129965\n",
       "B -0.190287 -0.084168  0.535094  0.683826\n",
       "C -1.185187  0.777027  1.584026 -0.188183\n",
       "D  1.645315  0.158212 -0.229024 -1.262726\n",
       "E  0.757857  0.313394  0.077329  0.200634"
      ]
     },
     "execution_count": 61,
     "metadata": {},
     "output_type": "execute_result"
    }
   ],
   "source": [
    "#1\n",
    "df = pd.DataFrame(randn(5,4), index = list('ABCDE'), columns = list('WXYZ')) #(1)\n",
    "df"
   ]
  },
  {
   "cell_type": "code",
   "execution_count": 62,
   "metadata": {},
   "outputs": [
    {
     "data": {
      "text/plain": [
       "A    0.855100\n",
       "B   -0.190287\n",
       "C   -1.185187\n",
       "D    1.645315\n",
       "E    0.757857\n",
       "Name: W, dtype: float64"
      ]
     },
     "execution_count": 62,
     "metadata": {},
     "output_type": "execute_result"
    }
   ],
   "source": [
    "#2\n",
    "df['W']"
   ]
  },
  {
   "cell_type": "code",
   "execution_count": 63,
   "metadata": {},
   "outputs": [
    {
     "data": {
      "text/html": [
       "<div>\n",
       "<table border=\"1\" class=\"dataframe\">\n",
       "  <thead>\n",
       "    <tr style=\"text-align: right;\">\n",
       "      <th></th>\n",
       "      <th>W</th>\n",
       "      <th>X</th>\n",
       "      <th>Y</th>\n",
       "      <th>Z</th>\n",
       "      <th>New</th>\n",
       "    </tr>\n",
       "  </thead>\n",
       "  <tbody>\n",
       "    <tr>\n",
       "      <th>A</th>\n",
       "      <td>0.855100</td>\n",
       "      <td>0.657531</td>\n",
       "      <td>0.521815</td>\n",
       "      <td>-1.129965</td>\n",
       "      <td>-0.472433</td>\n",
       "    </tr>\n",
       "    <tr>\n",
       "      <th>B</th>\n",
       "      <td>-0.190287</td>\n",
       "      <td>-0.084168</td>\n",
       "      <td>0.535094</td>\n",
       "      <td>0.683826</td>\n",
       "      <td>0.599657</td>\n",
       "    </tr>\n",
       "    <tr>\n",
       "      <th>C</th>\n",
       "      <td>-1.185187</td>\n",
       "      <td>0.777027</td>\n",
       "      <td>1.584026</td>\n",
       "      <td>-0.188183</td>\n",
       "      <td>0.588844</td>\n",
       "    </tr>\n",
       "    <tr>\n",
       "      <th>D</th>\n",
       "      <td>1.645315</td>\n",
       "      <td>0.158212</td>\n",
       "      <td>-0.229024</td>\n",
       "      <td>-1.262726</td>\n",
       "      <td>-1.104514</td>\n",
       "    </tr>\n",
       "    <tr>\n",
       "      <th>E</th>\n",
       "      <td>0.757857</td>\n",
       "      <td>0.313394</td>\n",
       "      <td>0.077329</td>\n",
       "      <td>0.200634</td>\n",
       "      <td>0.514028</td>\n",
       "    </tr>\n",
       "  </tbody>\n",
       "</table>\n",
       "</div>"
      ],
      "text/plain": [
       "          W         X         Y         Z       New\n",
       "A  0.855100  0.657531  0.521815 -1.129965 -0.472433\n",
       "B -0.190287 -0.084168  0.535094  0.683826  0.599657\n",
       "C -1.185187  0.777027  1.584026 -0.188183  0.588844\n",
       "D  1.645315  0.158212 -0.229024 -1.262726 -1.104514\n",
       "E  0.757857  0.313394  0.077329  0.200634  0.514028"
      ]
     },
     "execution_count": 63,
     "metadata": {},
     "output_type": "execute_result"
    }
   ],
   "source": [
    "#3\n",
    "df['New'] = df['X'] + df['Z']\n",
    "df"
   ]
  },
  {
   "cell_type": "code",
   "execution_count": 64,
   "metadata": {},
   "outputs": [
    {
     "data": {
      "text/plain": [
       "W     -1.185187\n",
       "X      0.777027\n",
       "Y      1.584026\n",
       "Z     -0.188183\n",
       "New    0.588844\n",
       "Name: C, dtype: float64"
      ]
     },
     "execution_count": 64,
     "metadata": {},
     "output_type": "execute_result"
    }
   ],
   "source": [
    "#4\n",
    "df.loc['C']"
   ]
  },
  {
   "cell_type": "code",
   "execution_count": 65,
   "metadata": {},
   "outputs": [],
   "source": [
    "#5\n",
    "del df['Y']"
   ]
  },
  {
   "cell_type": "code",
   "execution_count": 66,
   "metadata": {},
   "outputs": [
    {
     "data": {
      "text/html": [
       "<div>\n",
       "<table border=\"1\" class=\"dataframe\">\n",
       "  <thead>\n",
       "    <tr style=\"text-align: right;\">\n",
       "      <th></th>\n",
       "      <th>W</th>\n",
       "      <th>X</th>\n",
       "      <th>Z</th>\n",
       "      <th>New</th>\n",
       "      <th>XPos</th>\n",
       "    </tr>\n",
       "  </thead>\n",
       "  <tbody>\n",
       "    <tr>\n",
       "      <th>A</th>\n",
       "      <td>0.855100</td>\n",
       "      <td>0.657531</td>\n",
       "      <td>-1.129965</td>\n",
       "      <td>-0.472433</td>\n",
       "      <td>True</td>\n",
       "    </tr>\n",
       "    <tr>\n",
       "      <th>B</th>\n",
       "      <td>-0.190287</td>\n",
       "      <td>-0.084168</td>\n",
       "      <td>0.683826</td>\n",
       "      <td>0.599657</td>\n",
       "      <td>False</td>\n",
       "    </tr>\n",
       "    <tr>\n",
       "      <th>C</th>\n",
       "      <td>-1.185187</td>\n",
       "      <td>0.777027</td>\n",
       "      <td>-0.188183</td>\n",
       "      <td>0.588844</td>\n",
       "      <td>True</td>\n",
       "    </tr>\n",
       "    <tr>\n",
       "      <th>D</th>\n",
       "      <td>1.645315</td>\n",
       "      <td>0.158212</td>\n",
       "      <td>-1.262726</td>\n",
       "      <td>-1.104514</td>\n",
       "      <td>True</td>\n",
       "    </tr>\n",
       "    <tr>\n",
       "      <th>E</th>\n",
       "      <td>0.757857</td>\n",
       "      <td>0.313394</td>\n",
       "      <td>0.200634</td>\n",
       "      <td>0.514028</td>\n",
       "      <td>True</td>\n",
       "    </tr>\n",
       "  </tbody>\n",
       "</table>\n",
       "</div>"
      ],
      "text/plain": [
       "          W         X         Z       New   XPos\n",
       "A  0.855100  0.657531 -1.129965 -0.472433   True\n",
       "B -0.190287 -0.084168  0.683826  0.599657  False\n",
       "C -1.185187  0.777027 -0.188183  0.588844   True\n",
       "D  1.645315  0.158212 -1.262726 -1.104514   True\n",
       "E  0.757857  0.313394  0.200634  0.514028   True"
      ]
     },
     "execution_count": 66,
     "metadata": {},
     "output_type": "execute_result"
    }
   ],
   "source": [
    "#6\n",
    "df['XPos'] = df['X'] > 0\n",
    "df"
   ]
  },
  {
   "cell_type": "markdown",
   "metadata": {},
   "source": [
    "## **TASK  1-5**: \n",
    "\n",
    "(1) 次のコマンドを使って、データフレームを作成せよ。\n",
    "\n",
    "df = pd.DataFrame(randn(5,4), index = list('ABCDE'), columns = list('WXYZ'))\n",
    "\n",
    "(2) df からインデックス 'C'の行を削除せよ。\n",
    "\n",
    "(3) df からインデックス 'Y' と 'Z'の列を削除せよ（一行のコードを使用する）。"
   ]
  },
  {
   "cell_type": "code",
   "execution_count": 79,
   "metadata": {},
   "outputs": [
    {
     "data": {
      "text/html": [
       "<div>\n",
       "<table border=\"1\" class=\"dataframe\">\n",
       "  <thead>\n",
       "    <tr style=\"text-align: right;\">\n",
       "      <th></th>\n",
       "      <th>W</th>\n",
       "      <th>X</th>\n",
       "      <th>Y</th>\n",
       "      <th>Z</th>\n",
       "    </tr>\n",
       "  </thead>\n",
       "  <tbody>\n",
       "    <tr>\n",
       "      <th>A</th>\n",
       "      <td>0.493696</td>\n",
       "      <td>0.429462</td>\n",
       "      <td>0.767720</td>\n",
       "      <td>1.959772</td>\n",
       "    </tr>\n",
       "    <tr>\n",
       "      <th>B</th>\n",
       "      <td>-0.808769</td>\n",
       "      <td>1.890445</td>\n",
       "      <td>0.526678</td>\n",
       "      <td>-1.035155</td>\n",
       "    </tr>\n",
       "    <tr>\n",
       "      <th>C</th>\n",
       "      <td>0.425386</td>\n",
       "      <td>0.476855</td>\n",
       "      <td>-1.785337</td>\n",
       "      <td>-0.393410</td>\n",
       "    </tr>\n",
       "    <tr>\n",
       "      <th>D</th>\n",
       "      <td>-0.697133</td>\n",
       "      <td>0.174179</td>\n",
       "      <td>-0.285496</td>\n",
       "      <td>0.823548</td>\n",
       "    </tr>\n",
       "    <tr>\n",
       "      <th>E</th>\n",
       "      <td>1.015875</td>\n",
       "      <td>-0.071592</td>\n",
       "      <td>-1.622033</td>\n",
       "      <td>-0.384460</td>\n",
       "    </tr>\n",
       "  </tbody>\n",
       "</table>\n",
       "</div>"
      ],
      "text/plain": [
       "          W         X         Y         Z\n",
       "A  0.493696  0.429462  0.767720  1.959772\n",
       "B -0.808769  1.890445  0.526678 -1.035155\n",
       "C  0.425386  0.476855 -1.785337 -0.393410\n",
       "D -0.697133  0.174179 -0.285496  0.823548\n",
       "E  1.015875 -0.071592 -1.622033 -0.384460"
      ]
     },
     "execution_count": 79,
     "metadata": {},
     "output_type": "execute_result"
    }
   ],
   "source": [
    "#1\n",
    "df = pd.DataFrame(randn(5,4), index = list('ABCDE'), columns = list('WXYZ'))\n",
    "df"
   ]
  },
  {
   "cell_type": "code",
   "execution_count": 80,
   "metadata": {},
   "outputs": [
    {
     "data": {
      "text/html": [
       "<div>\n",
       "<table border=\"1\" class=\"dataframe\">\n",
       "  <thead>\n",
       "    <tr style=\"text-align: right;\">\n",
       "      <th></th>\n",
       "      <th>W</th>\n",
       "      <th>X</th>\n",
       "      <th>Y</th>\n",
       "      <th>Z</th>\n",
       "    </tr>\n",
       "  </thead>\n",
       "  <tbody>\n",
       "    <tr>\n",
       "      <th>A</th>\n",
       "      <td>0.493696</td>\n",
       "      <td>0.429462</td>\n",
       "      <td>0.767720</td>\n",
       "      <td>1.959772</td>\n",
       "    </tr>\n",
       "    <tr>\n",
       "      <th>B</th>\n",
       "      <td>-0.808769</td>\n",
       "      <td>1.890445</td>\n",
       "      <td>0.526678</td>\n",
       "      <td>-1.035155</td>\n",
       "    </tr>\n",
       "    <tr>\n",
       "      <th>D</th>\n",
       "      <td>-0.697133</td>\n",
       "      <td>0.174179</td>\n",
       "      <td>-0.285496</td>\n",
       "      <td>0.823548</td>\n",
       "    </tr>\n",
       "    <tr>\n",
       "      <th>E</th>\n",
       "      <td>1.015875</td>\n",
       "      <td>-0.071592</td>\n",
       "      <td>-1.622033</td>\n",
       "      <td>-0.384460</td>\n",
       "    </tr>\n",
       "  </tbody>\n",
       "</table>\n",
       "</div>"
      ],
      "text/plain": [
       "          W         X         Y         Z\n",
       "A  0.493696  0.429462  0.767720  1.959772\n",
       "B -0.808769  1.890445  0.526678 -1.035155\n",
       "D -0.697133  0.174179 -0.285496  0.823548\n",
       "E  1.015875 -0.071592 -1.622033 -0.384460"
      ]
     },
     "execution_count": 80,
     "metadata": {},
     "output_type": "execute_result"
    }
   ],
   "source": [
    "#2\n",
    "df.drop('C',inplace=True)\n",
    "df"
   ]
  },
  {
   "cell_type": "code",
   "execution_count": 81,
   "metadata": {},
   "outputs": [
    {
     "data": {
      "text/html": [
       "<div>\n",
       "<table border=\"1\" class=\"dataframe\">\n",
       "  <thead>\n",
       "    <tr style=\"text-align: right;\">\n",
       "      <th></th>\n",
       "      <th>W</th>\n",
       "      <th>X</th>\n",
       "    </tr>\n",
       "  </thead>\n",
       "  <tbody>\n",
       "    <tr>\n",
       "      <th>A</th>\n",
       "      <td>0.493696</td>\n",
       "      <td>0.429462</td>\n",
       "    </tr>\n",
       "    <tr>\n",
       "      <th>B</th>\n",
       "      <td>-0.808769</td>\n",
       "      <td>1.890445</td>\n",
       "    </tr>\n",
       "    <tr>\n",
       "      <th>D</th>\n",
       "      <td>-0.697133</td>\n",
       "      <td>0.174179</td>\n",
       "    </tr>\n",
       "    <tr>\n",
       "      <th>E</th>\n",
       "      <td>1.015875</td>\n",
       "      <td>-0.071592</td>\n",
       "    </tr>\n",
       "  </tbody>\n",
       "</table>\n",
       "</div>"
      ],
      "text/plain": [
       "          W         X\n",
       "A  0.493696  0.429462\n",
       "B -0.808769  1.890445\n",
       "D -0.697133  0.174179\n",
       "E  1.015875 -0.071592"
      ]
     },
     "execution_count": 81,
     "metadata": {},
     "output_type": "execute_result"
    }
   ],
   "source": [
    "#3\n",
    "df.drop(['Y', 'Z'], axis=1, inplace=True)\n",
    "df"
   ]
  },
  {
   "cell_type": "markdown",
   "metadata": {},
   "source": [
    "## **TASK  1-6**: \n",
    "\n",
    "(1) 次のコマンドを使って、データフレームを作成せよ。\n",
    "\n",
    "df = pd.DataFrame(randn(5,4), index = list('ABCDE'), columns = list('WXYZ'))\n",
    "\n",
    "(2) 列'Y'の値が正であるdfの行を表示せよ。\n",
    "\n",
    "(3) dfの全ての正の要素に 1 を代入せよ。"
   ]
  },
  {
   "cell_type": "code",
   "execution_count": 103,
   "metadata": {},
   "outputs": [
    {
     "data": {
      "text/html": [
       "<div>\n",
       "<table border=\"1\" class=\"dataframe\">\n",
       "  <thead>\n",
       "    <tr style=\"text-align: right;\">\n",
       "      <th></th>\n",
       "      <th>W</th>\n",
       "      <th>X</th>\n",
       "      <th>Y</th>\n",
       "      <th>Z</th>\n",
       "    </tr>\n",
       "  </thead>\n",
       "  <tbody>\n",
       "    <tr>\n",
       "      <th>A</th>\n",
       "      <td>-1.139269</td>\n",
       "      <td>0.252406</td>\n",
       "      <td>-0.162413</td>\n",
       "      <td>-0.327048</td>\n",
       "    </tr>\n",
       "    <tr>\n",
       "      <th>B</th>\n",
       "      <td>2.099168</td>\n",
       "      <td>-0.534409</td>\n",
       "      <td>-0.687058</td>\n",
       "      <td>0.858954</td>\n",
       "    </tr>\n",
       "    <tr>\n",
       "      <th>C</th>\n",
       "      <td>-1.157197</td>\n",
       "      <td>0.241563</td>\n",
       "      <td>-0.630797</td>\n",
       "      <td>-0.057500</td>\n",
       "    </tr>\n",
       "    <tr>\n",
       "      <th>D</th>\n",
       "      <td>0.149252</td>\n",
       "      <td>1.111249</td>\n",
       "      <td>-1.397933</td>\n",
       "      <td>-0.467052</td>\n",
       "    </tr>\n",
       "    <tr>\n",
       "      <th>E</th>\n",
       "      <td>0.187457</td>\n",
       "      <td>0.602221</td>\n",
       "      <td>0.358396</td>\n",
       "      <td>0.066410</td>\n",
       "    </tr>\n",
       "  </tbody>\n",
       "</table>\n",
       "</div>"
      ],
      "text/plain": [
       "          W         X         Y         Z\n",
       "A -1.139269  0.252406 -0.162413 -0.327048\n",
       "B  2.099168 -0.534409 -0.687058  0.858954\n",
       "C -1.157197  0.241563 -0.630797 -0.057500\n",
       "D  0.149252  1.111249 -1.397933 -0.467052\n",
       "E  0.187457  0.602221  0.358396  0.066410"
      ]
     },
     "execution_count": 103,
     "metadata": {},
     "output_type": "execute_result"
    }
   ],
   "source": [
    "#1\n",
    "df = pd.DataFrame(randn(5,4), index = list('ABCDE'), columns = list('WXYZ'))\n",
    "df"
   ]
  },
  {
   "cell_type": "code",
   "execution_count": 104,
   "metadata": {},
   "outputs": [
    {
     "data": {
      "text/html": [
       "<div>\n",
       "<table border=\"1\" class=\"dataframe\">\n",
       "  <thead>\n",
       "    <tr style=\"text-align: right;\">\n",
       "      <th></th>\n",
       "      <th>W</th>\n",
       "      <th>X</th>\n",
       "      <th>Y</th>\n",
       "      <th>Z</th>\n",
       "    </tr>\n",
       "  </thead>\n",
       "  <tbody>\n",
       "    <tr>\n",
       "      <th>E</th>\n",
       "      <td>0.187457</td>\n",
       "      <td>0.602221</td>\n",
       "      <td>0.358396</td>\n",
       "      <td>0.06641</td>\n",
       "    </tr>\n",
       "  </tbody>\n",
       "</table>\n",
       "</div>"
      ],
      "text/plain": [
       "          W         X         Y        Z\n",
       "E  0.187457  0.602221  0.358396  0.06641"
      ]
     },
     "execution_count": 104,
     "metadata": {},
     "output_type": "execute_result"
    }
   ],
   "source": [
    "#2\n",
    "df[df['Y'] > 0]"
   ]
  },
  {
   "cell_type": "code",
   "execution_count": 105,
   "metadata": {},
   "outputs": [
    {
     "data": {
      "text/html": [
       "<div>\n",
       "<table border=\"1\" class=\"dataframe\">\n",
       "  <thead>\n",
       "    <tr style=\"text-align: right;\">\n",
       "      <th></th>\n",
       "      <th>W</th>\n",
       "      <th>X</th>\n",
       "      <th>Y</th>\n",
       "      <th>Z</th>\n",
       "    </tr>\n",
       "  </thead>\n",
       "  <tbody>\n",
       "    <tr>\n",
       "      <th>A</th>\n",
       "      <td>-1.139269</td>\n",
       "      <td>1.000000</td>\n",
       "      <td>-0.162413</td>\n",
       "      <td>-0.327048</td>\n",
       "    </tr>\n",
       "    <tr>\n",
       "      <th>B</th>\n",
       "      <td>1.000000</td>\n",
       "      <td>-0.534409</td>\n",
       "      <td>-0.687058</td>\n",
       "      <td>1.000000</td>\n",
       "    </tr>\n",
       "    <tr>\n",
       "      <th>C</th>\n",
       "      <td>-1.157197</td>\n",
       "      <td>1.000000</td>\n",
       "      <td>-0.630797</td>\n",
       "      <td>-0.057500</td>\n",
       "    </tr>\n",
       "    <tr>\n",
       "      <th>D</th>\n",
       "      <td>1.000000</td>\n",
       "      <td>1.000000</td>\n",
       "      <td>-1.397933</td>\n",
       "      <td>-0.467052</td>\n",
       "    </tr>\n",
       "    <tr>\n",
       "      <th>E</th>\n",
       "      <td>1.000000</td>\n",
       "      <td>1.000000</td>\n",
       "      <td>1.000000</td>\n",
       "      <td>1.000000</td>\n",
       "    </tr>\n",
       "  </tbody>\n",
       "</table>\n",
       "</div>"
      ],
      "text/plain": [
       "          W         X         Y         Z\n",
       "A -1.139269  1.000000 -0.162413 -0.327048\n",
       "B  1.000000 -0.534409 -0.687058  1.000000\n",
       "C -1.157197  1.000000 -0.630797 -0.057500\n",
       "D  1.000000  1.000000 -1.397933 -0.467052\n",
       "E  1.000000  1.000000  1.000000  1.000000"
      ]
     },
     "execution_count": 105,
     "metadata": {},
     "output_type": "execute_result"
    }
   ],
   "source": [
    "#3\n",
    "df[df > 0] = 1\n",
    "df"
   ]
  },
  {
   "cell_type": "markdown",
   "metadata": {},
   "source": [
    "## **TASK  1-7**: \n",
    "\n",
    "(1) 次のコマンドを使って、データフレームを作成せよ。\n",
    "\n",
    "df = pd.DataFrame(randn(6,5), list('ABCDEF'), columns = list('VWXYZ')).\n",
    "\n",
    "(2) 行'C'の2番目と3番目の列だけを表示せよ。\n",
    "\n",
    "(3) 列'W'と'Y'の間と、行'B'と'D'の間にある df の部分を表示せよ。\n",
    "\n",
    "(4) 行 'A'の値が負である要素に対応する、行 'B'と'E'の部分を表示せよ。(**)"
   ]
  },
  {
   "cell_type": "code",
   "execution_count": 112,
   "metadata": {},
   "outputs": [
    {
     "data": {
      "text/html": [
       "<div>\n",
       "<table border=\"1\" class=\"dataframe\">\n",
       "  <thead>\n",
       "    <tr style=\"text-align: right;\">\n",
       "      <th></th>\n",
       "      <th>V</th>\n",
       "      <th>W</th>\n",
       "      <th>X</th>\n",
       "      <th>Y</th>\n",
       "      <th>Z</th>\n",
       "    </tr>\n",
       "  </thead>\n",
       "  <tbody>\n",
       "    <tr>\n",
       "      <th>A</th>\n",
       "      <td>-0.117300</td>\n",
       "      <td>-0.663917</td>\n",
       "      <td>-0.413270</td>\n",
       "      <td>-1.691778</td>\n",
       "      <td>-0.288521</td>\n",
       "    </tr>\n",
       "    <tr>\n",
       "      <th>B</th>\n",
       "      <td>-0.726356</td>\n",
       "      <td>0.426531</td>\n",
       "      <td>1.425231</td>\n",
       "      <td>1.705876</td>\n",
       "      <td>-0.119689</td>\n",
       "    </tr>\n",
       "    <tr>\n",
       "      <th>C</th>\n",
       "      <td>1.041822</td>\n",
       "      <td>0.430499</td>\n",
       "      <td>-0.531801</td>\n",
       "      <td>0.201142</td>\n",
       "      <td>-0.748445</td>\n",
       "    </tr>\n",
       "    <tr>\n",
       "      <th>D</th>\n",
       "      <td>-0.090036</td>\n",
       "      <td>0.063196</td>\n",
       "      <td>-0.996771</td>\n",
       "      <td>-1.063017</td>\n",
       "      <td>-0.150870</td>\n",
       "    </tr>\n",
       "    <tr>\n",
       "      <th>E</th>\n",
       "      <td>-1.009991</td>\n",
       "      <td>0.149397</td>\n",
       "      <td>-0.467640</td>\n",
       "      <td>-0.420828</td>\n",
       "      <td>0.037743</td>\n",
       "    </tr>\n",
       "    <tr>\n",
       "      <th>F</th>\n",
       "      <td>1.526033</td>\n",
       "      <td>0.480862</td>\n",
       "      <td>-2.251859</td>\n",
       "      <td>0.028844</td>\n",
       "      <td>0.959570</td>\n",
       "    </tr>\n",
       "  </tbody>\n",
       "</table>\n",
       "</div>"
      ],
      "text/plain": [
       "          V         W         X         Y         Z\n",
       "A -0.117300 -0.663917 -0.413270 -1.691778 -0.288521\n",
       "B -0.726356  0.426531  1.425231  1.705876 -0.119689\n",
       "C  1.041822  0.430499 -0.531801  0.201142 -0.748445\n",
       "D -0.090036  0.063196 -0.996771 -1.063017 -0.150870\n",
       "E -1.009991  0.149397 -0.467640 -0.420828  0.037743\n",
       "F  1.526033  0.480862 -2.251859  0.028844  0.959570"
      ]
     },
     "execution_count": 112,
     "metadata": {},
     "output_type": "execute_result"
    }
   ],
   "source": [
    "#1\n",
    "df = pd.DataFrame(randn(6,5), list('ABCDEF'), columns = list('VWXYZ')) #(1)\n",
    "df"
   ]
  },
  {
   "cell_type": "code",
   "execution_count": 113,
   "metadata": {},
   "outputs": [
    {
     "data": {
      "text/plain": [
       "W    0.430499\n",
       "X   -0.531801\n",
       "Name: C, dtype: float64"
      ]
     },
     "execution_count": 113,
     "metadata": {},
     "output_type": "execute_result"
    }
   ],
   "source": [
    "#2\n",
    "df.loc['C',['W','X']]"
   ]
  },
  {
   "cell_type": "code",
   "execution_count": 114,
   "metadata": {},
   "outputs": [
    {
     "data": {
      "text/html": [
       "<div>\n",
       "<table border=\"1\" class=\"dataframe\">\n",
       "  <thead>\n",
       "    <tr style=\"text-align: right;\">\n",
       "      <th></th>\n",
       "      <th>W</th>\n",
       "      <th>X</th>\n",
       "      <th>Y</th>\n",
       "    </tr>\n",
       "  </thead>\n",
       "  <tbody>\n",
       "    <tr>\n",
       "      <th>B</th>\n",
       "      <td>0.426531</td>\n",
       "      <td>1.425231</td>\n",
       "      <td>1.705876</td>\n",
       "    </tr>\n",
       "    <tr>\n",
       "      <th>C</th>\n",
       "      <td>0.430499</td>\n",
       "      <td>-0.531801</td>\n",
       "      <td>0.201142</td>\n",
       "    </tr>\n",
       "    <tr>\n",
       "      <th>D</th>\n",
       "      <td>0.063196</td>\n",
       "      <td>-0.996771</td>\n",
       "      <td>-1.063017</td>\n",
       "    </tr>\n",
       "  </tbody>\n",
       "</table>\n",
       "</div>"
      ],
      "text/plain": [
       "          W         X         Y\n",
       "B  0.426531  1.425231  1.705876\n",
       "C  0.430499 -0.531801  0.201142\n",
       "D  0.063196 -0.996771 -1.063017"
      ]
     },
     "execution_count": 114,
     "metadata": {},
     "output_type": "execute_result"
    }
   ],
   "source": [
    "#3\n",
    "df.loc['B':'D', 'W':'Y']"
   ]
  },
  {
   "cell_type": "code",
   "execution_count": 115,
   "metadata": {},
   "outputs": [
    {
     "data": {
      "text/html": [
       "<div>\n",
       "<table border=\"1\" class=\"dataframe\">\n",
       "  <thead>\n",
       "    <tr style=\"text-align: right;\">\n",
       "      <th></th>\n",
       "      <th>V</th>\n",
       "      <th>W</th>\n",
       "      <th>X</th>\n",
       "      <th>Y</th>\n",
       "      <th>Z</th>\n",
       "    </tr>\n",
       "  </thead>\n",
       "  <tbody>\n",
       "    <tr>\n",
       "      <th>B</th>\n",
       "      <td>-0.726356</td>\n",
       "      <td>0.426531</td>\n",
       "      <td>1.425231</td>\n",
       "      <td>1.705876</td>\n",
       "      <td>-0.119689</td>\n",
       "    </tr>\n",
       "    <tr>\n",
       "      <th>E</th>\n",
       "      <td>-1.009991</td>\n",
       "      <td>0.149397</td>\n",
       "      <td>-0.467640</td>\n",
       "      <td>-0.420828</td>\n",
       "      <td>0.037743</td>\n",
       "    </tr>\n",
       "  </tbody>\n",
       "</table>\n",
       "</div>"
      ],
      "text/plain": [
       "          V         W         X         Y         Z\n",
       "B -0.726356  0.426531  1.425231  1.705876 -0.119689\n",
       "E -1.009991  0.149397 -0.467640 -0.420828  0.037743"
      ]
     },
     "execution_count": 115,
     "metadata": {},
     "output_type": "execute_result"
    }
   ],
   "source": [
    "#4 発展課題　(**)\n",
    "df.loc[['B','E'],df.loc['A',:] < 0] # the bool condition selects the columns, that's why it is on the right"
   ]
  },
  {
   "cell_type": "markdown",
   "metadata": {},
   "source": [
    "## **TASK  1-8**: \n",
    "\n",
    "(1) 5行 $\\times$ 6列のデータフレームを作成せよ。\n",
    "\n",
    "(2) 最初の3行と最後の2列からなる部分を表示せよ。\n",
    "\n",
    "(3) 最初と最後の列の要素を含まず、行　2, 4, 0 を（この順番で）表示せよ。"
   ]
  },
  {
   "cell_type": "code",
   "execution_count": 121,
   "metadata": {},
   "outputs": [
    {
     "data": {
      "text/html": [
       "<div>\n",
       "<table border=\"1\" class=\"dataframe\">\n",
       "  <thead>\n",
       "    <tr style=\"text-align: right;\">\n",
       "      <th></th>\n",
       "      <th>A</th>\n",
       "      <th>B</th>\n",
       "      <th>C</th>\n",
       "      <th>D</th>\n",
       "      <th>E</th>\n",
       "      <th>F</th>\n",
       "    </tr>\n",
       "  </thead>\n",
       "  <tbody>\n",
       "    <tr>\n",
       "      <th>0</th>\n",
       "      <td>-1.450180</td>\n",
       "      <td>-1.256847</td>\n",
       "      <td>-0.017564</td>\n",
       "      <td>-0.062822</td>\n",
       "      <td>-1.355118</td>\n",
       "      <td>-0.833270</td>\n",
       "    </tr>\n",
       "    <tr>\n",
       "      <th>1</th>\n",
       "      <td>-0.162691</td>\n",
       "      <td>0.326824</td>\n",
       "      <td>1.117362</td>\n",
       "      <td>2.510868</td>\n",
       "      <td>-0.992476</td>\n",
       "      <td>-0.953110</td>\n",
       "    </tr>\n",
       "    <tr>\n",
       "      <th>2</th>\n",
       "      <td>0.476444</td>\n",
       "      <td>-0.178777</td>\n",
       "      <td>-1.978953</td>\n",
       "      <td>-0.454900</td>\n",
       "      <td>1.762110</td>\n",
       "      <td>0.576302</td>\n",
       "    </tr>\n",
       "    <tr>\n",
       "      <th>3</th>\n",
       "      <td>0.102869</td>\n",
       "      <td>-0.183062</td>\n",
       "      <td>2.352558</td>\n",
       "      <td>-1.172293</td>\n",
       "      <td>-0.880938</td>\n",
       "      <td>-0.827019</td>\n",
       "    </tr>\n",
       "    <tr>\n",
       "      <th>4</th>\n",
       "      <td>1.754028</td>\n",
       "      <td>1.101774</td>\n",
       "      <td>0.375576</td>\n",
       "      <td>-0.673534</td>\n",
       "      <td>-0.431892</td>\n",
       "      <td>0.320898</td>\n",
       "    </tr>\n",
       "  </tbody>\n",
       "</table>\n",
       "</div>"
      ],
      "text/plain": [
       "          A         B         C         D         E         F\n",
       "0 -1.450180 -1.256847 -0.017564 -0.062822 -1.355118 -0.833270\n",
       "1 -0.162691  0.326824  1.117362  2.510868 -0.992476 -0.953110\n",
       "2  0.476444 -0.178777 -1.978953 -0.454900  1.762110  0.576302\n",
       "3  0.102869 -0.183062  2.352558 -1.172293 -0.880938 -0.827019\n",
       "4  1.754028  1.101774  0.375576 -0.673534 -0.431892  0.320898"
      ]
     },
     "execution_count": 121,
     "metadata": {},
     "output_type": "execute_result"
    }
   ],
   "source": [
    "#1\n",
    "df = pd.DataFrame(randn(5,6), range(5), columns = list('ABCDEF'))\n",
    "df"
   ]
  },
  {
   "cell_type": "code",
   "execution_count": 122,
   "metadata": {},
   "outputs": [
    {
     "data": {
      "text/html": [
       "<div>\n",
       "<table border=\"1\" class=\"dataframe\">\n",
       "  <thead>\n",
       "    <tr style=\"text-align: right;\">\n",
       "      <th></th>\n",
       "      <th>E</th>\n",
       "      <th>F</th>\n",
       "    </tr>\n",
       "  </thead>\n",
       "  <tbody>\n",
       "    <tr>\n",
       "      <th>0</th>\n",
       "      <td>-1.355118</td>\n",
       "      <td>-0.833270</td>\n",
       "    </tr>\n",
       "    <tr>\n",
       "      <th>1</th>\n",
       "      <td>-0.992476</td>\n",
       "      <td>-0.953110</td>\n",
       "    </tr>\n",
       "    <tr>\n",
       "      <th>2</th>\n",
       "      <td>1.762110</td>\n",
       "      <td>0.576302</td>\n",
       "    </tr>\n",
       "  </tbody>\n",
       "</table>\n",
       "</div>"
      ],
      "text/plain": [
       "          E         F\n",
       "0 -1.355118 -0.833270\n",
       "1 -0.992476 -0.953110\n",
       "2  1.762110  0.576302"
      ]
     },
     "execution_count": 122,
     "metadata": {},
     "output_type": "execute_result"
    }
   ],
   "source": [
    "#2\n",
    "df.iloc[:3,-2:]"
   ]
  },
  {
   "cell_type": "code",
   "execution_count": 123,
   "metadata": {},
   "outputs": [
    {
     "data": {
      "text/html": [
       "<div>\n",
       "<table border=\"1\" class=\"dataframe\">\n",
       "  <thead>\n",
       "    <tr style=\"text-align: right;\">\n",
       "      <th></th>\n",
       "      <th>B</th>\n",
       "      <th>C</th>\n",
       "      <th>D</th>\n",
       "      <th>E</th>\n",
       "    </tr>\n",
       "  </thead>\n",
       "  <tbody>\n",
       "    <tr>\n",
       "      <th>2</th>\n",
       "      <td>-0.178777</td>\n",
       "      <td>-1.978953</td>\n",
       "      <td>-0.454900</td>\n",
       "      <td>1.762110</td>\n",
       "    </tr>\n",
       "    <tr>\n",
       "      <th>4</th>\n",
       "      <td>1.101774</td>\n",
       "      <td>0.375576</td>\n",
       "      <td>-0.673534</td>\n",
       "      <td>-0.431892</td>\n",
       "    </tr>\n",
       "    <tr>\n",
       "      <th>0</th>\n",
       "      <td>-1.256847</td>\n",
       "      <td>-0.017564</td>\n",
       "      <td>-0.062822</td>\n",
       "      <td>-1.355118</td>\n",
       "    </tr>\n",
       "  </tbody>\n",
       "</table>\n",
       "</div>"
      ],
      "text/plain": [
       "          B         C         D         E\n",
       "2 -0.178777 -1.978953 -0.454900  1.762110\n",
       "4  1.101774  0.375576 -0.673534 -0.431892\n",
       "0 -1.256847 -0.017564 -0.062822 -1.355118"
      ]
     },
     "execution_count": 123,
     "metadata": {},
     "output_type": "execute_result"
    }
   ],
   "source": [
    "#3\n",
    "df.iloc[[2,4,0],1:-1]"
   ]
  },
  {
   "cell_type": "markdown",
   "metadata": {},
   "source": [
    "## **TASK  1-9**: (**)\n",
    "\n",
    "(1) 2つ異なるデータフレームを作成して、重複しないところに-1を入れて、足算結果を表示せよ。\n",
    "\n",
    "(2) 上記と同じ設定で、今回は掛算を行う（**mul**メソッドを使う）."
   ]
  },
  {
   "cell_type": "code",
   "execution_count": 134,
   "metadata": {},
   "outputs": [
    {
     "name": "stdout",
     "output_type": "stream",
     "text": [
      "     a    b    c\n",
      "0  0.0  1.0  2.0\n",
      "1  3.0  4.0  5.0\n",
      "     a    b     c     d\n",
      "0  0.0  1.0   2.0   3.0\n",
      "1  4.0  5.0   6.0   7.0\n",
      "2  8.0  9.0  10.0  11.0\n"
     ]
    }
   ],
   "source": [
    "#0\n",
    "df1 = DataFrame(np.arange(6.).reshape((2, 3)), columns=list('abc'))\n",
    "df2 = DataFrame(np.arange(12.).reshape((3, 4)), columns=list('abcd'))\n",
    "print(df1)\n",
    "print(df2)"
   ]
  },
  {
   "cell_type": "code",
   "execution_count": 135,
   "metadata": {},
   "outputs": [
    {
     "data": {
      "text/html": [
       "<div>\n",
       "<table border=\"1\" class=\"dataframe\">\n",
       "  <thead>\n",
       "    <tr style=\"text-align: right;\">\n",
       "      <th></th>\n",
       "      <th>a</th>\n",
       "      <th>b</th>\n",
       "      <th>c</th>\n",
       "      <th>d</th>\n",
       "    </tr>\n",
       "  </thead>\n",
       "  <tbody>\n",
       "    <tr>\n",
       "      <th>0</th>\n",
       "      <td>0.0</td>\n",
       "      <td>2.0</td>\n",
       "      <td>4.0</td>\n",
       "      <td>2.0</td>\n",
       "    </tr>\n",
       "    <tr>\n",
       "      <th>1</th>\n",
       "      <td>7.0</td>\n",
       "      <td>9.0</td>\n",
       "      <td>11.0</td>\n",
       "      <td>6.0</td>\n",
       "    </tr>\n",
       "    <tr>\n",
       "      <th>2</th>\n",
       "      <td>7.0</td>\n",
       "      <td>8.0</td>\n",
       "      <td>9.0</td>\n",
       "      <td>10.0</td>\n",
       "    </tr>\n",
       "  </tbody>\n",
       "</table>\n",
       "</div>"
      ],
      "text/plain": [
       "     a    b     c     d\n",
       "0  0.0  2.0   4.0   2.0\n",
       "1  7.0  9.0  11.0   6.0\n",
       "2  7.0  8.0   9.0  10.0"
      ]
     },
     "execution_count": 135,
     "metadata": {},
     "output_type": "execute_result"
    }
   ],
   "source": [
    "#1\n",
    "df1.add(df2, fill_value = -1)"
   ]
  },
  {
   "cell_type": "code",
   "execution_count": 136,
   "metadata": {},
   "outputs": [
    {
     "data": {
      "text/html": [
       "<div>\n",
       "<table border=\"1\" class=\"dataframe\">\n",
       "  <thead>\n",
       "    <tr style=\"text-align: right;\">\n",
       "      <th></th>\n",
       "      <th>a</th>\n",
       "      <th>b</th>\n",
       "      <th>c</th>\n",
       "      <th>d</th>\n",
       "    </tr>\n",
       "  </thead>\n",
       "  <tbody>\n",
       "    <tr>\n",
       "      <th>0</th>\n",
       "      <td>0.0</td>\n",
       "      <td>1.0</td>\n",
       "      <td>4.0</td>\n",
       "      <td>-3.0</td>\n",
       "    </tr>\n",
       "    <tr>\n",
       "      <th>1</th>\n",
       "      <td>12.0</td>\n",
       "      <td>20.0</td>\n",
       "      <td>30.0</td>\n",
       "      <td>-7.0</td>\n",
       "    </tr>\n",
       "    <tr>\n",
       "      <th>2</th>\n",
       "      <td>-8.0</td>\n",
       "      <td>-9.0</td>\n",
       "      <td>-10.0</td>\n",
       "      <td>-11.0</td>\n",
       "    </tr>\n",
       "  </tbody>\n",
       "</table>\n",
       "</div>"
      ],
      "text/plain": [
       "      a     b     c     d\n",
       "0   0.0   1.0   4.0  -3.0\n",
       "1  12.0  20.0  30.0  -7.0\n",
       "2  -8.0  -9.0 -10.0 -11.0"
      ]
     },
     "execution_count": 136,
     "metadata": {},
     "output_type": "execute_result"
    }
   ],
   "source": [
    "#2\n",
    "df1.mul(df2, fill_value = -1)"
   ]
  },
  {
   "cell_type": "markdown",
   "metadata": {},
   "source": [
    "## **TASK  1-10**:(**) \n",
    "(1) 次のコマンドを使って、データフレームを作成せよ。\n",
    "\n",
    "df = pd.DataFrame(np.arange(30.).reshape((6, 5)), index = list('ABCDEF'), columns = list('abcde'))\n",
    "\n",
    "(2) データフレーム df の2列目と3列目の和から成るシリーズ　s1 を作成して、dfとs1の（列ごとの）差分を表示せよ。\n",
    "\n",
    "(3) データフレーム df の1行目と5行目の和から成るシリーズ　s2 を作成して、dfとs2の（行ごとの）差分を表示せよ。"
   ]
  },
  {
   "cell_type": "code",
   "execution_count": 149,
   "metadata": {},
   "outputs": [
    {
     "data": {
      "text/html": [
       "<div>\n",
       "<table border=\"1\" class=\"dataframe\">\n",
       "  <thead>\n",
       "    <tr style=\"text-align: right;\">\n",
       "      <th></th>\n",
       "      <th>a</th>\n",
       "      <th>b</th>\n",
       "      <th>c</th>\n",
       "      <th>d</th>\n",
       "      <th>e</th>\n",
       "    </tr>\n",
       "  </thead>\n",
       "  <tbody>\n",
       "    <tr>\n",
       "      <th>A</th>\n",
       "      <td>0.0</td>\n",
       "      <td>1.0</td>\n",
       "      <td>2.0</td>\n",
       "      <td>3.0</td>\n",
       "      <td>4.0</td>\n",
       "    </tr>\n",
       "    <tr>\n",
       "      <th>B</th>\n",
       "      <td>5.0</td>\n",
       "      <td>6.0</td>\n",
       "      <td>7.0</td>\n",
       "      <td>8.0</td>\n",
       "      <td>9.0</td>\n",
       "    </tr>\n",
       "    <tr>\n",
       "      <th>C</th>\n",
       "      <td>10.0</td>\n",
       "      <td>11.0</td>\n",
       "      <td>12.0</td>\n",
       "      <td>13.0</td>\n",
       "      <td>14.0</td>\n",
       "    </tr>\n",
       "    <tr>\n",
       "      <th>D</th>\n",
       "      <td>15.0</td>\n",
       "      <td>16.0</td>\n",
       "      <td>17.0</td>\n",
       "      <td>18.0</td>\n",
       "      <td>19.0</td>\n",
       "    </tr>\n",
       "    <tr>\n",
       "      <th>E</th>\n",
       "      <td>20.0</td>\n",
       "      <td>21.0</td>\n",
       "      <td>22.0</td>\n",
       "      <td>23.0</td>\n",
       "      <td>24.0</td>\n",
       "    </tr>\n",
       "    <tr>\n",
       "      <th>F</th>\n",
       "      <td>25.0</td>\n",
       "      <td>26.0</td>\n",
       "      <td>27.0</td>\n",
       "      <td>28.0</td>\n",
       "      <td>29.0</td>\n",
       "    </tr>\n",
       "  </tbody>\n",
       "</table>\n",
       "</div>"
      ],
      "text/plain": [
       "      a     b     c     d     e\n",
       "A   0.0   1.0   2.0   3.0   4.0\n",
       "B   5.0   6.0   7.0   8.0   9.0\n",
       "C  10.0  11.0  12.0  13.0  14.0\n",
       "D  15.0  16.0  17.0  18.0  19.0\n",
       "E  20.0  21.0  22.0  23.0  24.0\n",
       "F  25.0  26.0  27.0  28.0  29.0"
      ]
     },
     "execution_count": 149,
     "metadata": {},
     "output_type": "execute_result"
    }
   ],
   "source": [
    "#1\n",
    "df = pd.DataFrame(np.arange(30.).reshape((6, 5)), \n",
    "                  index = list('ABCDEF'), \n",
    "                  columns = list('abcde'))\n",
    "df"
   ]
  },
  {
   "cell_type": "code",
   "execution_count": 150,
   "metadata": {},
   "outputs": [
    {
     "data": {
      "text/html": [
       "<div>\n",
       "<table border=\"1\" class=\"dataframe\">\n",
       "  <thead>\n",
       "    <tr style=\"text-align: right;\">\n",
       "      <th></th>\n",
       "      <th>a</th>\n",
       "      <th>b</th>\n",
       "      <th>c</th>\n",
       "      <th>d</th>\n",
       "      <th>e</th>\n",
       "    </tr>\n",
       "  </thead>\n",
       "  <tbody>\n",
       "    <tr>\n",
       "      <th>A</th>\n",
       "      <td>-5.0</td>\n",
       "      <td>-4.0</td>\n",
       "      <td>-3.0</td>\n",
       "      <td>-2.0</td>\n",
       "      <td>-1.0</td>\n",
       "    </tr>\n",
       "    <tr>\n",
       "      <th>B</th>\n",
       "      <td>-10.0</td>\n",
       "      <td>-9.0</td>\n",
       "      <td>-8.0</td>\n",
       "      <td>-7.0</td>\n",
       "      <td>-6.0</td>\n",
       "    </tr>\n",
       "    <tr>\n",
       "      <th>C</th>\n",
       "      <td>-15.0</td>\n",
       "      <td>-14.0</td>\n",
       "      <td>-13.0</td>\n",
       "      <td>-12.0</td>\n",
       "      <td>-11.0</td>\n",
       "    </tr>\n",
       "    <tr>\n",
       "      <th>D</th>\n",
       "      <td>-20.0</td>\n",
       "      <td>-19.0</td>\n",
       "      <td>-18.0</td>\n",
       "      <td>-17.0</td>\n",
       "      <td>-16.0</td>\n",
       "    </tr>\n",
       "    <tr>\n",
       "      <th>E</th>\n",
       "      <td>-25.0</td>\n",
       "      <td>-24.0</td>\n",
       "      <td>-23.0</td>\n",
       "      <td>-22.0</td>\n",
       "      <td>-21.0</td>\n",
       "    </tr>\n",
       "    <tr>\n",
       "      <th>F</th>\n",
       "      <td>-30.0</td>\n",
       "      <td>-29.0</td>\n",
       "      <td>-28.0</td>\n",
       "      <td>-27.0</td>\n",
       "      <td>-26.0</td>\n",
       "    </tr>\n",
       "  </tbody>\n",
       "</table>\n",
       "</div>"
      ],
      "text/plain": [
       "      a     b     c     d     e\n",
       "A  -5.0  -4.0  -3.0  -2.0  -1.0\n",
       "B -10.0  -9.0  -8.0  -7.0  -6.0\n",
       "C -15.0 -14.0 -13.0 -12.0 -11.0\n",
       "D -20.0 -19.0 -18.0 -17.0 -16.0\n",
       "E -25.0 -24.0 -23.0 -22.0 -21.0\n",
       "F -30.0 -29.0 -28.0 -27.0 -26.0"
      ]
     },
     "execution_count": 150,
     "metadata": {},
     "output_type": "execute_result"
    }
   ],
   "source": [
    "#2\n",
    "s1 = df['c'] + df['d'] #(2)\n",
    "#s1 = df.iloc[:,2] + df.iloc[:,3] #using iloc\n",
    "\n",
    "#df - s1 #間違ったやり方　wrong way to do it\n",
    "df.sub(s1, axis = 0) #正しいやり方　correct way to do it"
   ]
  },
  {
   "cell_type": "code",
   "execution_count": 151,
   "metadata": {},
   "outputs": [
    {
     "data": {
      "text/html": [
       "<div>\n",
       "<table border=\"1\" class=\"dataframe\">\n",
       "  <thead>\n",
       "    <tr style=\"text-align: right;\">\n",
       "      <th></th>\n",
       "      <th>a</th>\n",
       "      <th>b</th>\n",
       "      <th>c</th>\n",
       "      <th>d</th>\n",
       "      <th>e</th>\n",
       "    </tr>\n",
       "  </thead>\n",
       "  <tbody>\n",
       "    <tr>\n",
       "      <th>A</th>\n",
       "      <td>-30.0</td>\n",
       "      <td>-31.0</td>\n",
       "      <td>-32.0</td>\n",
       "      <td>-33.0</td>\n",
       "      <td>-34.0</td>\n",
       "    </tr>\n",
       "    <tr>\n",
       "      <th>B</th>\n",
       "      <td>-25.0</td>\n",
       "      <td>-26.0</td>\n",
       "      <td>-27.0</td>\n",
       "      <td>-28.0</td>\n",
       "      <td>-29.0</td>\n",
       "    </tr>\n",
       "    <tr>\n",
       "      <th>C</th>\n",
       "      <td>-20.0</td>\n",
       "      <td>-21.0</td>\n",
       "      <td>-22.0</td>\n",
       "      <td>-23.0</td>\n",
       "      <td>-24.0</td>\n",
       "    </tr>\n",
       "    <tr>\n",
       "      <th>D</th>\n",
       "      <td>-15.0</td>\n",
       "      <td>-16.0</td>\n",
       "      <td>-17.0</td>\n",
       "      <td>-18.0</td>\n",
       "      <td>-19.0</td>\n",
       "    </tr>\n",
       "    <tr>\n",
       "      <th>E</th>\n",
       "      <td>-10.0</td>\n",
       "      <td>-11.0</td>\n",
       "      <td>-12.0</td>\n",
       "      <td>-13.0</td>\n",
       "      <td>-14.0</td>\n",
       "    </tr>\n",
       "    <tr>\n",
       "      <th>F</th>\n",
       "      <td>-5.0</td>\n",
       "      <td>-6.0</td>\n",
       "      <td>-7.0</td>\n",
       "      <td>-8.0</td>\n",
       "      <td>-9.0</td>\n",
       "    </tr>\n",
       "  </tbody>\n",
       "</table>\n",
       "</div>"
      ],
      "text/plain": [
       "      a     b     c     d     e\n",
       "A -30.0 -31.0 -32.0 -33.0 -34.0\n",
       "B -25.0 -26.0 -27.0 -28.0 -29.0\n",
       "C -20.0 -21.0 -22.0 -23.0 -24.0\n",
       "D -15.0 -16.0 -17.0 -18.0 -19.0\n",
       "E -10.0 -11.0 -12.0 -13.0 -14.0\n",
       "F  -5.0  -6.0  -7.0  -8.0  -9.0"
      ]
     },
     "execution_count": 151,
     "metadata": {},
     "output_type": "execute_result"
    }
   ],
   "source": [
    "#3\n",
    "s2 = df.iloc[1] + df.iloc[5]\n",
    "df - s2\n",
    "df.sub(s2, axis = 1) #別のやり方　another way"
   ]
  },
  {
   "cell_type": "markdown",
   "metadata": {},
   "source": [
    "## **TASK  1-11**: \n",
    "(1) 次のコマンドを使って、データフレームを作成せよ。\n",
    "\n",
    "df = pd.DataFrame(np.arange(20.).reshape((5,4)), index = list('ABCDE'), columns = list('wxyz')).\n",
    "\n",
    "(2) フォーマット用関数を使って、dfの各要素を小数点以下3桁まで表示せよ。\n",
    "\n",
    "(3) dfに各行の和を計算する関数を適用し、表示せよ（**apply** では NumPy の **sum** メソッドを使用）。"
   ]
  },
  {
   "cell_type": "code",
   "execution_count": 160,
   "metadata": {},
   "outputs": [
    {
     "data": {
      "text/html": [
       "<div>\n",
       "<table border=\"1\" class=\"dataframe\">\n",
       "  <thead>\n",
       "    <tr style=\"text-align: right;\">\n",
       "      <th></th>\n",
       "      <th>w</th>\n",
       "      <th>x</th>\n",
       "      <th>y</th>\n",
       "      <th>z</th>\n",
       "    </tr>\n",
       "  </thead>\n",
       "  <tbody>\n",
       "    <tr>\n",
       "      <th>A</th>\n",
       "      <td>0.0</td>\n",
       "      <td>1.0</td>\n",
       "      <td>2.0</td>\n",
       "      <td>3.0</td>\n",
       "    </tr>\n",
       "    <tr>\n",
       "      <th>B</th>\n",
       "      <td>4.0</td>\n",
       "      <td>5.0</td>\n",
       "      <td>6.0</td>\n",
       "      <td>7.0</td>\n",
       "    </tr>\n",
       "    <tr>\n",
       "      <th>C</th>\n",
       "      <td>8.0</td>\n",
       "      <td>9.0</td>\n",
       "      <td>10.0</td>\n",
       "      <td>11.0</td>\n",
       "    </tr>\n",
       "    <tr>\n",
       "      <th>D</th>\n",
       "      <td>12.0</td>\n",
       "      <td>13.0</td>\n",
       "      <td>14.0</td>\n",
       "      <td>15.0</td>\n",
       "    </tr>\n",
       "    <tr>\n",
       "      <th>E</th>\n",
       "      <td>16.0</td>\n",
       "      <td>17.0</td>\n",
       "      <td>18.0</td>\n",
       "      <td>19.0</td>\n",
       "    </tr>\n",
       "  </tbody>\n",
       "</table>\n",
       "</div>"
      ],
      "text/plain": [
       "      w     x     y     z\n",
       "A   0.0   1.0   2.0   3.0\n",
       "B   4.0   5.0   6.0   7.0\n",
       "C   8.0   9.0  10.0  11.0\n",
       "D  12.0  13.0  14.0  15.0\n",
       "E  16.0  17.0  18.0  19.0"
      ]
     },
     "execution_count": 160,
     "metadata": {},
     "output_type": "execute_result"
    }
   ],
   "source": [
    "#1\n",
    "df = pd.DataFrame(np.arange(20.).reshape((5,4)), index = list('ABCDE'), columns = list('wxyz'))\n",
    "df"
   ]
  },
  {
   "cell_type": "code",
   "execution_count": 161,
   "metadata": {},
   "outputs": [
    {
     "data": {
      "text/html": [
       "<div>\n",
       "<table border=\"1\" class=\"dataframe\">\n",
       "  <thead>\n",
       "    <tr style=\"text-align: right;\">\n",
       "      <th></th>\n",
       "      <th>w</th>\n",
       "      <th>x</th>\n",
       "      <th>y</th>\n",
       "      <th>z</th>\n",
       "    </tr>\n",
       "  </thead>\n",
       "  <tbody>\n",
       "    <tr>\n",
       "      <th>A</th>\n",
       "      <td>0.000</td>\n",
       "      <td>1.000</td>\n",
       "      <td>2.000</td>\n",
       "      <td>3.000</td>\n",
       "    </tr>\n",
       "    <tr>\n",
       "      <th>B</th>\n",
       "      <td>4.000</td>\n",
       "      <td>5.000</td>\n",
       "      <td>6.000</td>\n",
       "      <td>7.000</td>\n",
       "    </tr>\n",
       "    <tr>\n",
       "      <th>C</th>\n",
       "      <td>8.000</td>\n",
       "      <td>9.000</td>\n",
       "      <td>10.000</td>\n",
       "      <td>11.000</td>\n",
       "    </tr>\n",
       "    <tr>\n",
       "      <th>D</th>\n",
       "      <td>12.000</td>\n",
       "      <td>13.000</td>\n",
       "      <td>14.000</td>\n",
       "      <td>15.000</td>\n",
       "    </tr>\n",
       "    <tr>\n",
       "      <th>E</th>\n",
       "      <td>16.000</td>\n",
       "      <td>17.000</td>\n",
       "      <td>18.000</td>\n",
       "      <td>19.000</td>\n",
       "    </tr>\n",
       "  </tbody>\n",
       "</table>\n",
       "</div>"
      ],
      "text/plain": [
       "        w       x       y       z\n",
       "A   0.000   1.000   2.000   3.000\n",
       "B   4.000   5.000   6.000   7.000\n",
       "C   8.000   9.000  10.000  11.000\n",
       "D  12.000  13.000  14.000  15.000\n",
       "E  16.000  17.000  18.000  19.000"
      ]
     },
     "execution_count": 161,
     "metadata": {},
     "output_type": "execute_result"
    }
   ],
   "source": [
    "#2\n",
    "def format (x):\n",
    "    return '%.3f' % x\n",
    "#format = lambda x: '%.3f' % x\n",
    "\n",
    "df.applymap(format)"
   ]
  },
  {
   "cell_type": "code",
   "execution_count": 162,
   "metadata": {},
   "outputs": [
    {
     "data": {
      "text/plain": [
       "A     6.0\n",
       "B    22.0\n",
       "C    38.0\n",
       "D    54.0\n",
       "E    70.0\n",
       "dtype: float64"
      ]
     },
     "execution_count": 162,
     "metadata": {},
     "output_type": "execute_result"
    }
   ],
   "source": [
    "#3\n",
    "df.apply(np.sum, axis=1)\n",
    "#df.sum(axis=1) #apply を使わない場合"
   ]
  },
  {
   "cell_type": "markdown",
   "metadata": {},
   "source": [
    "## **TASK  1-12**: \n",
    "\n",
    "(1) 次のコマンドを使って、データフレームを作成せよ。\n",
    "\n",
    "df = pd.DataFrame(randn(5,4), index = list('ABCDE'), columns = list('ZXWY'))\n",
    "\n",
    "(2) データフレームの列インデックスを降順でソートせよ。\n",
    "\n",
    "(3) データフレームの2列目の値によって、昇順でソートせよ。\n",
    "\n",
    "(4) データフレームの行ごとのランクを求めよ。(**)"
   ]
  },
  {
   "cell_type": "code",
   "execution_count": 179,
   "metadata": {},
   "outputs": [
    {
     "data": {
      "text/html": [
       "<div>\n",
       "<table border=\"1\" class=\"dataframe\">\n",
       "  <thead>\n",
       "    <tr style=\"text-align: right;\">\n",
       "      <th></th>\n",
       "      <th>Z</th>\n",
       "      <th>X</th>\n",
       "      <th>W</th>\n",
       "      <th>Y</th>\n",
       "    </tr>\n",
       "  </thead>\n",
       "  <tbody>\n",
       "    <tr>\n",
       "      <th>A</th>\n",
       "      <td>2.075331</td>\n",
       "      <td>0.289695</td>\n",
       "      <td>-1.270285</td>\n",
       "      <td>0.760287</td>\n",
       "    </tr>\n",
       "    <tr>\n",
       "      <th>B</th>\n",
       "      <td>-0.407395</td>\n",
       "      <td>0.966429</td>\n",
       "      <td>-0.061540</td>\n",
       "      <td>0.345181</td>\n",
       "    </tr>\n",
       "    <tr>\n",
       "      <th>C</th>\n",
       "      <td>-1.399508</td>\n",
       "      <td>1.608750</td>\n",
       "      <td>-1.679197</td>\n",
       "      <td>0.190736</td>\n",
       "    </tr>\n",
       "    <tr>\n",
       "      <th>D</th>\n",
       "      <td>1.791780</td>\n",
       "      <td>0.252237</td>\n",
       "      <td>0.934063</td>\n",
       "      <td>1.169903</td>\n",
       "    </tr>\n",
       "    <tr>\n",
       "      <th>E</th>\n",
       "      <td>0.236285</td>\n",
       "      <td>1.116688</td>\n",
       "      <td>0.431732</td>\n",
       "      <td>-0.945720</td>\n",
       "    </tr>\n",
       "  </tbody>\n",
       "</table>\n",
       "</div>"
      ],
      "text/plain": [
       "          Z         X         W         Y\n",
       "A  2.075331  0.289695 -1.270285  0.760287\n",
       "B -0.407395  0.966429 -0.061540  0.345181\n",
       "C -1.399508  1.608750 -1.679197  0.190736\n",
       "D  1.791780  0.252237  0.934063  1.169903\n",
       "E  0.236285  1.116688  0.431732 -0.945720"
      ]
     },
     "execution_count": 179,
     "metadata": {},
     "output_type": "execute_result"
    }
   ],
   "source": [
    "#1\n",
    "df = pd.DataFrame(randn(5,4), index = list('ABCDE'), columns = list('ZXWY'))\n",
    "df"
   ]
  },
  {
   "cell_type": "code",
   "execution_count": 180,
   "metadata": {},
   "outputs": [
    {
     "data": {
      "text/html": [
       "<div>\n",
       "<table border=\"1\" class=\"dataframe\">\n",
       "  <thead>\n",
       "    <tr style=\"text-align: right;\">\n",
       "      <th></th>\n",
       "      <th>Z</th>\n",
       "      <th>Y</th>\n",
       "      <th>X</th>\n",
       "      <th>W</th>\n",
       "    </tr>\n",
       "  </thead>\n",
       "  <tbody>\n",
       "    <tr>\n",
       "      <th>A</th>\n",
       "      <td>2.075331</td>\n",
       "      <td>0.760287</td>\n",
       "      <td>0.289695</td>\n",
       "      <td>-1.270285</td>\n",
       "    </tr>\n",
       "    <tr>\n",
       "      <th>B</th>\n",
       "      <td>-0.407395</td>\n",
       "      <td>0.345181</td>\n",
       "      <td>0.966429</td>\n",
       "      <td>-0.061540</td>\n",
       "    </tr>\n",
       "    <tr>\n",
       "      <th>C</th>\n",
       "      <td>-1.399508</td>\n",
       "      <td>0.190736</td>\n",
       "      <td>1.608750</td>\n",
       "      <td>-1.679197</td>\n",
       "    </tr>\n",
       "    <tr>\n",
       "      <th>D</th>\n",
       "      <td>1.791780</td>\n",
       "      <td>1.169903</td>\n",
       "      <td>0.252237</td>\n",
       "      <td>0.934063</td>\n",
       "    </tr>\n",
       "    <tr>\n",
       "      <th>E</th>\n",
       "      <td>0.236285</td>\n",
       "      <td>-0.945720</td>\n",
       "      <td>1.116688</td>\n",
       "      <td>0.431732</td>\n",
       "    </tr>\n",
       "  </tbody>\n",
       "</table>\n",
       "</div>"
      ],
      "text/plain": [
       "          Z         Y         X         W\n",
       "A  2.075331  0.760287  0.289695 -1.270285\n",
       "B -0.407395  0.345181  0.966429 -0.061540\n",
       "C -1.399508  0.190736  1.608750 -1.679197\n",
       "D  1.791780  1.169903  0.252237  0.934063\n",
       "E  0.236285 -0.945720  1.116688  0.431732"
      ]
     },
     "execution_count": 180,
     "metadata": {},
     "output_type": "execute_result"
    }
   ],
   "source": [
    "#2\n",
    "df.sort_index(ascending = False, axis = 1)"
   ]
  },
  {
   "cell_type": "code",
   "execution_count": 181,
   "metadata": {},
   "outputs": [
    {
     "data": {
      "text/html": [
       "<div>\n",
       "<table border=\"1\" class=\"dataframe\">\n",
       "  <thead>\n",
       "    <tr style=\"text-align: right;\">\n",
       "      <th></th>\n",
       "      <th>Z</th>\n",
       "      <th>X</th>\n",
       "      <th>W</th>\n",
       "      <th>Y</th>\n",
       "    </tr>\n",
       "  </thead>\n",
       "  <tbody>\n",
       "    <tr>\n",
       "      <th>C</th>\n",
       "      <td>-1.399508</td>\n",
       "      <td>1.608750</td>\n",
       "      <td>-1.679197</td>\n",
       "      <td>0.190736</td>\n",
       "    </tr>\n",
       "    <tr>\n",
       "      <th>A</th>\n",
       "      <td>2.075331</td>\n",
       "      <td>0.289695</td>\n",
       "      <td>-1.270285</td>\n",
       "      <td>0.760287</td>\n",
       "    </tr>\n",
       "    <tr>\n",
       "      <th>B</th>\n",
       "      <td>-0.407395</td>\n",
       "      <td>0.966429</td>\n",
       "      <td>-0.061540</td>\n",
       "      <td>0.345181</td>\n",
       "    </tr>\n",
       "    <tr>\n",
       "      <th>E</th>\n",
       "      <td>0.236285</td>\n",
       "      <td>1.116688</td>\n",
       "      <td>0.431732</td>\n",
       "      <td>-0.945720</td>\n",
       "    </tr>\n",
       "    <tr>\n",
       "      <th>D</th>\n",
       "      <td>1.791780</td>\n",
       "      <td>0.252237</td>\n",
       "      <td>0.934063</td>\n",
       "      <td>1.169903</td>\n",
       "    </tr>\n",
       "  </tbody>\n",
       "</table>\n",
       "</div>"
      ],
      "text/plain": [
       "          Z         X         W         Y\n",
       "C -1.399508  1.608750 -1.679197  0.190736\n",
       "A  2.075331  0.289695 -1.270285  0.760287\n",
       "B -0.407395  0.966429 -0.061540  0.345181\n",
       "E  0.236285  1.116688  0.431732 -0.945720\n",
       "D  1.791780  0.252237  0.934063  1.169903"
      ]
     },
     "execution_count": 181,
     "metadata": {},
     "output_type": "execute_result"
    }
   ],
   "source": [
    "#3\n",
    "df.sort_values(by = 'W')"
   ]
  },
  {
   "cell_type": "code",
   "execution_count": 182,
   "metadata": {},
   "outputs": [
    {
     "data": {
      "text/html": [
       "<div>\n",
       "<table border=\"1\" class=\"dataframe\">\n",
       "  <thead>\n",
       "    <tr style=\"text-align: right;\">\n",
       "      <th></th>\n",
       "      <th>Z</th>\n",
       "      <th>X</th>\n",
       "      <th>W</th>\n",
       "      <th>Y</th>\n",
       "    </tr>\n",
       "  </thead>\n",
       "  <tbody>\n",
       "    <tr>\n",
       "      <th>A</th>\n",
       "      <td>4.0</td>\n",
       "      <td>2.0</td>\n",
       "      <td>1.0</td>\n",
       "      <td>3.0</td>\n",
       "    </tr>\n",
       "    <tr>\n",
       "      <th>B</th>\n",
       "      <td>1.0</td>\n",
       "      <td>4.0</td>\n",
       "      <td>2.0</td>\n",
       "      <td>3.0</td>\n",
       "    </tr>\n",
       "    <tr>\n",
       "      <th>C</th>\n",
       "      <td>2.0</td>\n",
       "      <td>4.0</td>\n",
       "      <td>1.0</td>\n",
       "      <td>3.0</td>\n",
       "    </tr>\n",
       "    <tr>\n",
       "      <th>D</th>\n",
       "      <td>4.0</td>\n",
       "      <td>1.0</td>\n",
       "      <td>2.0</td>\n",
       "      <td>3.0</td>\n",
       "    </tr>\n",
       "    <tr>\n",
       "      <th>E</th>\n",
       "      <td>2.0</td>\n",
       "      <td>4.0</td>\n",
       "      <td>3.0</td>\n",
       "      <td>1.0</td>\n",
       "    </tr>\n",
       "  </tbody>\n",
       "</table>\n",
       "</div>"
      ],
      "text/plain": [
       "     Z    X    W    Y\n",
       "A  4.0  2.0  1.0  3.0\n",
       "B  1.0  4.0  2.0  3.0\n",
       "C  2.0  4.0  1.0  3.0\n",
       "D  4.0  1.0  2.0  3.0\n",
       "E  2.0  4.0  3.0  1.0"
      ]
     },
     "execution_count": 182,
     "metadata": {},
     "output_type": "execute_result"
    }
   ],
   "source": [
    "#4\n",
    "df.rank(axis = 1)"
   ]
  },
  {
   "cell_type": "markdown",
   "metadata": {},
   "source": [
    "## **TASK  1-13** \n",
    "\n",
    "(1) 次のコマンドを使って、データフレームを作成せよ。\n",
    "\n",
    "df = pd.DataFrame(randn(5,4), index = list('ABCDE'), columns = list('WXYZ'))\n",
    "\n",
    "(2) データフレームdfの各行の平均値を求めよ。\n",
    "\n",
    "(3) 行ごとの累積を求めよ。\n",
    "\n",
    "(4) describe メソッドを使って、複数の要約統計量を計算せよ。結果から、列 'X' の中央値を求めよ。\n"
   ]
  },
  {
   "cell_type": "code",
   "execution_count": 197,
   "metadata": {},
   "outputs": [
    {
     "data": {
      "text/html": [
       "<div>\n",
       "<table border=\"1\" class=\"dataframe\">\n",
       "  <thead>\n",
       "    <tr style=\"text-align: right;\">\n",
       "      <th></th>\n",
       "      <th>W</th>\n",
       "      <th>X</th>\n",
       "      <th>Y</th>\n",
       "      <th>Z</th>\n",
       "    </tr>\n",
       "  </thead>\n",
       "  <tbody>\n",
       "    <tr>\n",
       "      <th>A</th>\n",
       "      <td>0.600332</td>\n",
       "      <td>-0.930874</td>\n",
       "      <td>-2.336261</td>\n",
       "      <td>-0.022965</td>\n",
       "    </tr>\n",
       "    <tr>\n",
       "      <th>B</th>\n",
       "      <td>0.986662</td>\n",
       "      <td>-0.307863</td>\n",
       "      <td>-0.776492</td>\n",
       "      <td>0.568053</td>\n",
       "    </tr>\n",
       "    <tr>\n",
       "      <th>C</th>\n",
       "      <td>1.121344</td>\n",
       "      <td>0.124491</td>\n",
       "      <td>-0.099600</td>\n",
       "      <td>-0.298877</td>\n",
       "    </tr>\n",
       "    <tr>\n",
       "      <th>D</th>\n",
       "      <td>0.386591</td>\n",
       "      <td>0.576403</td>\n",
       "      <td>1.148617</td>\n",
       "      <td>-1.345467</td>\n",
       "    </tr>\n",
       "    <tr>\n",
       "      <th>E</th>\n",
       "      <td>-0.805074</td>\n",
       "      <td>-0.541837</td>\n",
       "      <td>1.367157</td>\n",
       "      <td>-0.621750</td>\n",
       "    </tr>\n",
       "  </tbody>\n",
       "</table>\n",
       "</div>"
      ],
      "text/plain": [
       "          W         X         Y         Z\n",
       "A  0.600332 -0.930874 -2.336261 -0.022965\n",
       "B  0.986662 -0.307863 -0.776492  0.568053\n",
       "C  1.121344  0.124491 -0.099600 -0.298877\n",
       "D  0.386591  0.576403  1.148617 -1.345467\n",
       "E -0.805074 -0.541837  1.367157 -0.621750"
      ]
     },
     "execution_count": 197,
     "metadata": {},
     "output_type": "execute_result"
    }
   ],
   "source": [
    "#1\n",
    "df = pd.DataFrame(randn(5,4), index = list('ABCDE'), columns = list('WXYZ'))\n",
    "df"
   ]
  },
  {
   "cell_type": "code",
   "execution_count": 198,
   "metadata": {},
   "outputs": [
    {
     "data": {
      "text/plain": [
       "A   -0.672442\n",
       "B    0.117590\n",
       "C    0.211840\n",
       "D    0.191536\n",
       "E   -0.150376\n",
       "dtype: float64"
      ]
     },
     "execution_count": 198,
     "metadata": {},
     "output_type": "execute_result"
    }
   ],
   "source": [
    "#2\n",
    "df.mean(axis=1)"
   ]
  },
  {
   "cell_type": "code",
   "execution_count": 199,
   "metadata": {},
   "outputs": [
    {
     "data": {
      "text/html": [
       "<div>\n",
       "<table border=\"1\" class=\"dataframe\">\n",
       "  <thead>\n",
       "    <tr style=\"text-align: right;\">\n",
       "      <th></th>\n",
       "      <th>W</th>\n",
       "      <th>X</th>\n",
       "      <th>Y</th>\n",
       "      <th>Z</th>\n",
       "    </tr>\n",
       "  </thead>\n",
       "  <tbody>\n",
       "    <tr>\n",
       "      <th>A</th>\n",
       "      <td>0.600332</td>\n",
       "      <td>-0.330542</td>\n",
       "      <td>-2.666803</td>\n",
       "      <td>-2.689768</td>\n",
       "    </tr>\n",
       "    <tr>\n",
       "      <th>B</th>\n",
       "      <td>0.986662</td>\n",
       "      <td>0.678799</td>\n",
       "      <td>-0.097693</td>\n",
       "      <td>0.470359</td>\n",
       "    </tr>\n",
       "    <tr>\n",
       "      <th>C</th>\n",
       "      <td>1.121344</td>\n",
       "      <td>1.245836</td>\n",
       "      <td>1.146236</td>\n",
       "      <td>0.847359</td>\n",
       "    </tr>\n",
       "    <tr>\n",
       "      <th>D</th>\n",
       "      <td>0.386591</td>\n",
       "      <td>0.962995</td>\n",
       "      <td>2.111612</td>\n",
       "      <td>0.766145</td>\n",
       "    </tr>\n",
       "    <tr>\n",
       "      <th>E</th>\n",
       "      <td>-0.805074</td>\n",
       "      <td>-1.346911</td>\n",
       "      <td>0.020246</td>\n",
       "      <td>-0.601504</td>\n",
       "    </tr>\n",
       "  </tbody>\n",
       "</table>\n",
       "</div>"
      ],
      "text/plain": [
       "          W         X         Y         Z\n",
       "A  0.600332 -0.330542 -2.666803 -2.689768\n",
       "B  0.986662  0.678799 -0.097693  0.470359\n",
       "C  1.121344  1.245836  1.146236  0.847359\n",
       "D  0.386591  0.962995  2.111612  0.766145\n",
       "E -0.805074 -1.346911  0.020246 -0.601504"
      ]
     },
     "execution_count": 199,
     "metadata": {},
     "output_type": "execute_result"
    }
   ],
   "source": [
    "#3\n",
    "df.cumsum(axis=1)"
   ]
  },
  {
   "cell_type": "code",
   "execution_count": 200,
   "metadata": {},
   "outputs": [
    {
     "data": {
      "text/html": [
       "<div>\n",
       "<table border=\"1\" class=\"dataframe\">\n",
       "  <thead>\n",
       "    <tr style=\"text-align: right;\">\n",
       "      <th></th>\n",
       "      <th>W</th>\n",
       "      <th>X</th>\n",
       "      <th>Y</th>\n",
       "      <th>Z</th>\n",
       "    </tr>\n",
       "  </thead>\n",
       "  <tbody>\n",
       "    <tr>\n",
       "      <th>count</th>\n",
       "      <td>5.000000</td>\n",
       "      <td>5.000000</td>\n",
       "      <td>5.000000</td>\n",
       "      <td>5.000000</td>\n",
       "    </tr>\n",
       "    <tr>\n",
       "      <th>mean</th>\n",
       "      <td>0.457971</td>\n",
       "      <td>-0.215936</td>\n",
       "      <td>-0.139316</td>\n",
       "      <td>-0.344201</td>\n",
       "    </tr>\n",
       "    <tr>\n",
       "      <th>std</th>\n",
       "      <td>0.764889</td>\n",
       "      <td>0.585126</td>\n",
       "      <td>1.513470</td>\n",
       "      <td>0.710109</td>\n",
       "    </tr>\n",
       "    <tr>\n",
       "      <th>min</th>\n",
       "      <td>-0.805074</td>\n",
       "      <td>-0.930874</td>\n",
       "      <td>-2.336261</td>\n",
       "      <td>-1.345467</td>\n",
       "    </tr>\n",
       "    <tr>\n",
       "      <th>25%</th>\n",
       "      <td>0.386591</td>\n",
       "      <td>-0.541837</td>\n",
       "      <td>-0.776492</td>\n",
       "      <td>-0.621750</td>\n",
       "    </tr>\n",
       "    <tr>\n",
       "      <th>50%</th>\n",
       "      <td>0.600332</td>\n",
       "      <td>-0.307863</td>\n",
       "      <td>-0.099600</td>\n",
       "      <td>-0.298877</td>\n",
       "    </tr>\n",
       "    <tr>\n",
       "      <th>75%</th>\n",
       "      <td>0.986662</td>\n",
       "      <td>0.124491</td>\n",
       "      <td>1.148617</td>\n",
       "      <td>-0.022965</td>\n",
       "    </tr>\n",
       "    <tr>\n",
       "      <th>max</th>\n",
       "      <td>1.121344</td>\n",
       "      <td>0.576403</td>\n",
       "      <td>1.367157</td>\n",
       "      <td>0.568053</td>\n",
       "    </tr>\n",
       "  </tbody>\n",
       "</table>\n",
       "</div>"
      ],
      "text/plain": [
       "              W         X         Y         Z\n",
       "count  5.000000  5.000000  5.000000  5.000000\n",
       "mean   0.457971 -0.215936 -0.139316 -0.344201\n",
       "std    0.764889  0.585126  1.513470  0.710109\n",
       "min   -0.805074 -0.930874 -2.336261 -1.345467\n",
       "25%    0.386591 -0.541837 -0.776492 -0.621750\n",
       "50%    0.600332 -0.307863 -0.099600 -0.298877\n",
       "75%    0.986662  0.124491  1.148617 -0.022965\n",
       "max    1.121344  0.576403  1.367157  0.568053"
      ]
     },
     "execution_count": 200,
     "metadata": {},
     "output_type": "execute_result"
    }
   ],
   "source": [
    "#4a\n",
    "df.describe() # X列の50%の値　get value for 50% for column X"
   ]
  },
  {
   "cell_type": "code",
   "execution_count": 201,
   "metadata": {},
   "outputs": [
    {
     "data": {
      "text/plain": [
       "-0.30786326176436263"
      ]
     },
     "execution_count": 201,
     "metadata": {},
     "output_type": "execute_result"
    }
   ],
   "source": [
    "#4b\n",
    "df.describe().loc['50%','X']"
   ]
  },
  {
   "cell_type": "markdown",
   "metadata": {},
   "source": [
    "## **TASK  1-14**: \n",
    "\n",
    "(1) データが空白で区切られたテキストファイルcars.txtをデータフレーム df に読み込む。\n",
    "\n",
    "(2) 内容にあった列名と行名（インデックス）を割り当てよ。\n",
    "\n",
    "(3) value_counts メソッドを使って、'cylinders'列に含まれる値の頻度を調べよ。\n",
    "\n",
    "(4) 何シリンダーが一番多いのか一行のコードで書け。\n",
    "\n",
    "    ヒント：value_counts と index メソッドを使う。"
   ]
  },
  {
   "cell_type": "code",
   "execution_count": 212,
   "metadata": {},
   "outputs": [
    {
     "data": {
      "text/html": [
       "<div>\n",
       "<table border=\"1\" class=\"dataframe\">\n",
       "  <thead>\n",
       "    <tr style=\"text-align: right;\">\n",
       "      <th></th>\n",
       "      <th>mpg</th>\n",
       "      <th>cylinders</th>\n",
       "      <th>displacement</th>\n",
       "      <th>horsepower</th>\n",
       "      <th>weight</th>\n",
       "      <th>acceleration</th>\n",
       "      <th>model_year</th>\n",
       "      <th>origin</th>\n",
       "      <th>car_name</th>\n",
       "    </tr>\n",
       "  </thead>\n",
       "  <tbody>\n",
       "    <tr>\n",
       "      <th>0</th>\n",
       "      <td>26.0</td>\n",
       "      <td>4</td>\n",
       "      <td>97.0</td>\n",
       "      <td>46.0</td>\n",
       "      <td>1950.0</td>\n",
       "      <td>21.0</td>\n",
       "      <td>73</td>\n",
       "      <td>2</td>\n",
       "      <td>volkswagen super beetle</td>\n",
       "    </tr>\n",
       "    <tr>\n",
       "      <th>1</th>\n",
       "      <td>11.0</td>\n",
       "      <td>8</td>\n",
       "      <td>400.0</td>\n",
       "      <td>150.0</td>\n",
       "      <td>4997.0</td>\n",
       "      <td>14.0</td>\n",
       "      <td>73</td>\n",
       "      <td>1</td>\n",
       "      <td>chevrolet impala</td>\n",
       "    </tr>\n",
       "    <tr>\n",
       "      <th>2</th>\n",
       "      <td>12.0</td>\n",
       "      <td>8</td>\n",
       "      <td>400.0</td>\n",
       "      <td>167.0</td>\n",
       "      <td>4906.0</td>\n",
       "      <td>12.5</td>\n",
       "      <td>73</td>\n",
       "      <td>1</td>\n",
       "      <td>ford country</td>\n",
       "    </tr>\n",
       "  </tbody>\n",
       "</table>\n",
       "</div>"
      ],
      "text/plain": [
       "    mpg  cylinders  displacement  horsepower  weight  acceleration  \\\n",
       "0  26.0          4          97.0        46.0  1950.0          21.0   \n",
       "1  11.0          8         400.0       150.0  4997.0          14.0   \n",
       "2  12.0          8         400.0       167.0  4906.0          12.5   \n",
       "\n",
       "   model_year  origin                 car_name  \n",
       "0          73       2  volkswagen super beetle  \n",
       "1          73       1         chevrolet impala  \n",
       "2          73       1             ford country  "
      ]
     },
     "execution_count": 212,
     "metadata": {},
     "output_type": "execute_result"
    }
   ],
   "source": [
    "#1\n",
    "df = pd.read_csv('data/cars.txt',sep='\\s+') \n",
    "df.head(3)"
   ]
  },
  {
   "cell_type": "code",
   "execution_count": 213,
   "metadata": {},
   "outputs": [
    {
     "data": {
      "text/html": [
       "<div>\n",
       "<table border=\"1\" class=\"dataframe\">\n",
       "  <thead>\n",
       "    <tr style=\"text-align: right;\">\n",
       "      <th></th>\n",
       "      <th>mpg</th>\n",
       "      <th>cylinders</th>\n",
       "      <th>displacement</th>\n",
       "      <th>horsepower</th>\n",
       "      <th>weight</th>\n",
       "      <th>acceleration</th>\n",
       "      <th>model_year</th>\n",
       "      <th>origin</th>\n",
       "    </tr>\n",
       "    <tr>\n",
       "      <th>car_name</th>\n",
       "      <th></th>\n",
       "      <th></th>\n",
       "      <th></th>\n",
       "      <th></th>\n",
       "      <th></th>\n",
       "      <th></th>\n",
       "      <th></th>\n",
       "      <th></th>\n",
       "    </tr>\n",
       "  </thead>\n",
       "  <tbody>\n",
       "    <tr>\n",
       "      <th>volkswagen super beetle</th>\n",
       "      <td>26.0</td>\n",
       "      <td>4</td>\n",
       "      <td>97.0</td>\n",
       "      <td>46.0</td>\n",
       "      <td>1950.0</td>\n",
       "      <td>21.0</td>\n",
       "      <td>73</td>\n",
       "      <td>2</td>\n",
       "    </tr>\n",
       "    <tr>\n",
       "      <th>chevrolet impala</th>\n",
       "      <td>11.0</td>\n",
       "      <td>8</td>\n",
       "      <td>400.0</td>\n",
       "      <td>150.0</td>\n",
       "      <td>4997.0</td>\n",
       "      <td>14.0</td>\n",
       "      <td>73</td>\n",
       "      <td>1</td>\n",
       "    </tr>\n",
       "    <tr>\n",
       "      <th>ford country</th>\n",
       "      <td>12.0</td>\n",
       "      <td>8</td>\n",
       "      <td>400.0</td>\n",
       "      <td>167.0</td>\n",
       "      <td>4906.0</td>\n",
       "      <td>12.5</td>\n",
       "      <td>73</td>\n",
       "      <td>1</td>\n",
       "    </tr>\n",
       "  </tbody>\n",
       "</table>\n",
       "</div>"
      ],
      "text/plain": [
       "                          mpg  cylinders  displacement  horsepower  weight  \\\n",
       "car_name                                                                     \n",
       "volkswagen super beetle  26.0          4          97.0        46.0  1950.0   \n",
       "chevrolet impala         11.0          8         400.0       150.0  4997.0   \n",
       "ford country             12.0          8         400.0       167.0  4906.0   \n",
       "\n",
       "                         acceleration  model_year  origin  \n",
       "car_name                                                   \n",
       "volkswagen super beetle          21.0          73       2  \n",
       "chevrolet impala                 14.0          73       1  \n",
       "ford country                     12.5          73       1  "
      ]
     },
     "execution_count": 213,
     "metadata": {},
     "output_type": "execute_result"
    }
   ],
   "source": [
    "#2\n",
    "df.index = df['car_name']\n",
    "df.drop('car_name', inplace=True, axis=1)\n",
    "df.head(3)\n",
    "#df = pd.read_csv('cars.txt',sep='\\s+',index_col='car_name') #1行でもできる（読み込んだ時）"
   ]
  },
  {
   "cell_type": "code",
   "execution_count": 214,
   "metadata": {},
   "outputs": [
    {
     "data": {
      "text/plain": [
       "8    4\n",
       "4    4\n",
       "6    1\n",
       "3    1\n",
       "Name: cylinders, dtype: int64"
      ]
     },
     "execution_count": 214,
     "metadata": {},
     "output_type": "execute_result"
    }
   ],
   "source": [
    "#3\n",
    "df['cylinders'].value_counts()"
   ]
  },
  {
   "cell_type": "code",
   "execution_count": 215,
   "metadata": {},
   "outputs": [
    {
     "data": {
      "text/plain": [
       "8"
      ]
     },
     "execution_count": 215,
     "metadata": {},
     "output_type": "execute_result"
    }
   ],
   "source": [
    "#4\n",
    "df['cylinders'].value_counts().index[0]"
   ]
  },
  {
   "cell_type": "markdown",
   "metadata": {
    "collapsed": true
   },
   "source": [
    "## **TASK 1-15**: \n",
    "\n",
    "データフレームを作成して、 CSV ファイルに保存せよ。しかし、行と列のラベルを書き込まず、区切り文字としては '#' を使用すること。"
   ]
  },
  {
   "cell_type": "code",
   "execution_count": 225,
   "metadata": {},
   "outputs": [
    {
     "data": {
      "text/html": [
       "<div>\n",
       "<table border=\"1\" class=\"dataframe\">\n",
       "  <thead>\n",
       "    <tr style=\"text-align: right;\">\n",
       "      <th></th>\n",
       "      <th>A</th>\n",
       "      <th>B</th>\n",
       "      <th>C</th>\n",
       "      <th>D</th>\n",
       "      <th>E</th>\n",
       "    </tr>\n",
       "  </thead>\n",
       "  <tbody>\n",
       "    <tr>\n",
       "      <th>0</th>\n",
       "      <td>0.0</td>\n",
       "      <td>1.0</td>\n",
       "      <td>2.0</td>\n",
       "      <td>3.0</td>\n",
       "      <td>4.0</td>\n",
       "    </tr>\n",
       "    <tr>\n",
       "      <th>1</th>\n",
       "      <td>5.0</td>\n",
       "      <td>6.0</td>\n",
       "      <td>7.0</td>\n",
       "      <td>8.0</td>\n",
       "      <td>9.0</td>\n",
       "    </tr>\n",
       "    <tr>\n",
       "      <th>2</th>\n",
       "      <td>10.0</td>\n",
       "      <td>11.0</td>\n",
       "      <td>12.0</td>\n",
       "      <td>13.0</td>\n",
       "      <td>14.0</td>\n",
       "    </tr>\n",
       "    <tr>\n",
       "      <th>3</th>\n",
       "      <td>15.0</td>\n",
       "      <td>16.0</td>\n",
       "      <td>17.0</td>\n",
       "      <td>18.0</td>\n",
       "      <td>19.0</td>\n",
       "    </tr>\n",
       "  </tbody>\n",
       "</table>\n",
       "</div>"
      ],
      "text/plain": [
       "      A     B     C     D     E\n",
       "0   0.0   1.0   2.0   3.0   4.0\n",
       "1   5.0   6.0   7.0   8.0   9.0\n",
       "2  10.0  11.0  12.0  13.0  14.0\n",
       "3  15.0  16.0  17.0  18.0  19.0"
      ]
     },
     "execution_count": 225,
     "metadata": {},
     "output_type": "execute_result"
    }
   ],
   "source": [
    "df=DataFrame(np.arange(20.).reshape(4,5),columns = list('ABCDE'))\n",
    "df"
   ]
  },
  {
   "cell_type": "code",
   "execution_count": 226,
   "metadata": {
    "scrolled": true
   },
   "outputs": [
    {
     "name": "stdout",
     "output_type": "stream",
     "text": [
      "0.0#1.0#2.0#3.0#4.0\n",
      "5.0#6.0#7.0#8.0#9.0\n",
      "10.0#11.0#12.0#13.0#14.0\n",
      "15.0#16.0#17.0#18.0#19.0\n"
     ]
    }
   ],
   "source": [
    "df.to_csv(sys.stdout, sep='#', index=False, header=False)\n",
    "#df.to_csv(sys.stdout, sep='#', index=False, header=False, float_format = '%.2f')#データのフォーマットも指定できる"
   ]
  },
  {
   "cell_type": "code",
   "execution_count": null,
   "metadata": {},
   "outputs": [],
   "source": []
  }
 ],
 "metadata": {
  "kernelspec": {
   "display_name": "Python 3",
   "language": "python",
   "name": "python3"
  },
  "language_info": {
   "codemirror_mode": {
    "name": "ipython",
    "version": 3
   },
   "file_extension": ".py",
   "mimetype": "text/x-python",
   "name": "python",
   "nbconvert_exporter": "python",
   "pygments_lexer": "ipython3",
   "version": "3.6.5"
  },
  "toc": {
   "colors": {
    "hover_highlight": "#DAA520",
    "running_highlight": "#FF0000",
    "selected_highlight": "#FFD700"
   },
   "moveMenuLeft": true,
   "nav_menu": {
    "height": "512px",
    "width": "252px"
   },
   "navigate_menu": true,
   "number_sections": true,
   "sideBar": true,
   "threshold": 4,
   "toc_cell": false,
   "toc_section_display": "block",
   "toc_window_display": false,
   "widenNotebook": false
  }
 },
 "nbformat": 4,
 "nbformat_minor": 1
}
